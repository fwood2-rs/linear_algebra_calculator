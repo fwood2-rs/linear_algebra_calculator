{
 "cells": [
  {
   "cell_type": "code",
   "execution_count": 1,
   "id": "f1905c6f",
   "metadata": {},
   "outputs": [],
   "source": [
    "import numpy as np\n",
    "from numpy import linalg\n",
    "import sympy as sp\n",
    "from sympy import *\n",
    "import math\n",
    "import random\n",
    "import fractions\n",
    "from matplotlib import pyplot as plt\n",
    "from time import time\n",
    "from fractions import Fraction\n",
    "from IPython.display import display, Latex"
   ]
  },
  {
   "cell_type": "code",
   "execution_count": 2,
   "id": "ce81bbe0",
   "metadata": {},
   "outputs": [
    {
     "data": {
      "application/javascript": [
       "IPython.OutputArea.prototype._should_scroll = function(lines) {\n",
       "    return false;\n",
       "}\n"
      ],
      "text/plain": [
       "<IPython.core.display.Javascript object>"
      ]
     },
     "metadata": {},
     "output_type": "display_data"
    }
   ],
   "source": [
    "%%javascript\n",
    "IPython.OutputArea.prototype._should_scroll = function(lines) {\n",
    "    return false;\n",
    "}"
   ]
  },
  {
   "cell_type": "markdown",
   "id": "3b140ee3",
   "metadata": {},
   "source": [
    "# LINEAR ALGEBRA HOMEWORK SOLVER\n",
    "\n",
    "### by Jason Zhou jason.zhou@duke.edu\n",
    "\n",
    "This python notebook is meant to assist the user in solving linear algebra problems, most likely in a homework context. The contents are based loosely off of the class MATH218 taught at Duke by Professor Joe Rabinoff and Professor Rann Bar-On. It differs from other similar services by offering the following special features:\n",
    "\n",
    "1. Showing steps\n",
    "\n",
    "2. Supporting fractions\n",
    "\n",
    "3. Modular Functions that can be editted\n",
    "\n",
    "4. Functions can be used in conjunction with each other\n",
    "\n",
    "5. Detailed documentation and explanation of algorithms\n",
    "\n",
    "6. Less visual but much more efficient input UI\n",
    "\n",
    "7. No latency and does not require internet connection\n",
    "\n",
    "8. Large number of functions all in one place. Majority of functions in an entry level linear algebra class are included\n",
    "\n",
    "9. Aesthetic LaTex output\n",
    "\n",
    "What this jupyter notebook is:\n",
    "\n",
    "1. A homework assistant that automates computation\n",
    "2. A teaching tool that demonstrates linear algebra algorithms\n",
    "3. A quick and dirty linear algebra textbook\n",
    "4. Sympy that shows steps\n",
    "\n",
    "What this jupyter notebook is not:\n",
    "\n",
    "1. A replacement for numpy\n",
    "2. A tool to process large amounts of information in contexts such as machine learning\n",
    "\n",
    "Notes on known bugs and performance issues:\n",
    "\n",
    "1. Jupyter notebooks uses MathJax to render latex outputs. When running the entire notebook for the first time it will take a few seconds for latex outputs to render if you see unrendered latex, do not panic it will resolve itself soon.\n",
    "\n",
    "2. Some of the rendered outputs will create a scroll wheel next to it often when its displaying a matrix with fractional values inside. Theres nothing I can figure out to deal with this annoying issue.\n",
    "\n",
    "3. When viewing in github some values show up as UnknownValue when they fail to render, this issue is fixed when opening the file in jupyter notebook or vscode."
   ]
  },
  {
   "cell_type": "markdown",
   "id": "5068b265",
   "metadata": {},
   "source": [
    "# USER GUIDE\n",
    "\n",
    "The packages should already be preinstalled if you are running on jupyter notebook. Please run the entire notebook before attempting to use a specific function as many of the functions are reliant on others. When running the whole notebook, it will take several seconds for the latex outputs to fully render, if you see raw latex do not panic.\n",
    "\n",
    "For standardization purposes the following guidelines\n",
    "\n",
    "To enter the vector:\n",
    "\n",
    "$$v=\\begin{bmatrix}1\\\\ 2 \\\\ 3\\end{bmatrix}$$\n",
    "\n",
    "write:\n",
    "\n",
    "```python\n",
    "                                                   v = np.array([1, 2, 3])\n",
    "```\n",
    "\n",
    "To enter the matrix:\n",
    "\n",
    "$$A=\\begin{bmatrix}\n",
    "1 & 2 & 3 & 4\\\\\n",
    "5 & 6 & 7 & 8 \\\\\n",
    "9 & 10 & 11 & l2\n",
    "\\end{bmatrix}$$\n",
    "\n",
    "write:\n",
    "\n",
    "```python\n",
    "                                                   A = np.array([[1, 2, 3, 4],\n",
    "                                                                 [5, 6, 7, 8],\n",
    "                                                                 [9, 10, 11, 12]])\n",
    "```\n",
    "Remember that python and numpy index starting from 0, so the first row of A would be A[0]. However, for increased intuitiveness the print statements of the functions in this notebook index starting from 1. So the first row of A would be called row 1 in the print statements(actual computation is still done with indexing starting from 0).\n",
    "Notes on fractional values:\n",
    "\n",
    "This notebook uses sympy to handle many fraction cases. In order to enter a fraction see example below\n",
    "\n",
    "The fraction: \n",
    "\n",
    "$$a = \\frac{1}{2}$$\n",
    "\n",
    "becomes:\n",
    "\n",
    "```python\n",
    "                                                      a = Rational(1, 2)\n",
    "```\n",
    "\n",
    "array objects can be inputted with fractions.\n",
    "the vector:\n",
    "\n",
    "$$v=\\begin{bmatrix}\\frac{1}{2} \\\\ \\frac{1}{3} \\\\ \\frac{1}{4} \\end{bmatrix}$$\n",
    "\n",
    "becomes:\n",
    "\n",
    "```python\n",
    "                                   v = np.array([Rational(1, 2), Rational(1,3), Rational(1, 4)])\n",
    "```\n",
    "\n",
    "Be wary that the preprocessing function used in this notebook will do its best to convert all numbers into sympy objects in order to facilitate true algebra. Do not enter 0.6666666666 thinking it will give you $$\\frac{2}{3}$$ it will instead convert this float into $$\\frac{6004799502560181}{9007199254740992}$$."
   ]
  },
  {
   "cell_type": "markdown",
   "id": "3bbdd5da",
   "metadata": {},
   "source": [
    "Sympy also allows us to enter symbols\n",
    "\n",
    "To enter the variables:\n",
    "\n",
    "$$x, y, z$$\n",
    "\n",
    "write\n",
    "```python\n",
    "                                   x, y, z = symbols('x y z')\n",
    "```\n"
   ]
  },
  {
   "cell_type": "markdown",
   "id": "5e9b3ed7",
   "metadata": {},
   "source": [
    "numpy is also capable of handling imaginary values\n",
    "the vector\n",
    "$$v=\\begin{bmatrix}1 + i\\\\ 2i \\\\ \\frac{3}{i}\\end{bmatrix}$$\n",
    "becomes\n",
    "```python\n",
    "                                   v = np.array([1 + 1j, 2j, Rational(3, 1j)])\n",
    "```\n",
    "note that i is called j in numpy and requires a coefficient to initiate even if it is 1. For this reason, avoid using j as a symbol name"
   ]
  },
  {
   "cell_type": "markdown",
   "id": "5ed5326c",
   "metadata": {},
   "source": [
    "# TABLE OF CONTENTS\n",
    "\n",
    "0. General Use\n",
    "1. Numpy Built-ins\n",
    "2. Human Algorithm Row Reducer\n",
    "3. Linear Dependence\n",
    "4. Rank\n",
    "5. LU Decomposition\n",
    "6. Determinant\n",
    "7. Inverse\n",
    "8. Area of a Parallelogram\n",
    "9. Volume of a Parallelopiped\n",
    "10. Orthogonality\n",
    "11. Least Squares\n",
    "12. Trace\n",
    "13. QR Decomposition\n",
    "14. Eigenvalues and Eigenvectors\n",
    "15. Diagonalization"
   ]
  },
  {
   "cell_type": "markdown",
   "id": "f1603654",
   "metadata": {},
   "source": [
    "# 0. GENERAL USE\n",
    "\n",
    "Some functions to facilitate the operation of other functions."
   ]
  },
  {
   "cell_type": "code",
   "execution_count": 3,
   "id": "153640bc",
   "metadata": {},
   "outputs": [],
   "source": [
    "def preprocess(A):\n",
    "    \"\"\"\n",
    "    The goal of preprocess is to create a copy of array A,\n",
    "    such that all the values of A are ideally represented\n",
    "    by sp.core.numbers.Rational objects. This is to allow\n",
    "    the functions to perform algebra instead of approximating\n",
    "    float representations of rationals.\n",
    "    Parameters\n",
    "    ----------\n",
    "    A: array_like\n",
    "        Matrix to be processed\n",
    "    Returns\n",
    "    -------\n",
    "    R: array_like\n",
    "        A copy of A that has done its best to convert the values\n",
    "        in A into sp.core.numbers.Rational objects if possible\n",
    "    \"\"\"\n",
    "    Y = A.shape\n",
    "    R = np.empty(Y, dtype = sp.core.numbers.Rational)\n",
    "    if len(Y) == 1:\n",
    "        #identified A as a vector \n",
    "        #so only one loop is needed to iterate through all values\n",
    "        for i in range(Y[0]):\n",
    "            if type(A[i]) == fractions.Fraction:\n",
    "                R[i] = Rational(A[i].numerator, A[i].denominator)\n",
    "            elif type(A[i]) in [int, float, np.int32, np.float64]:\n",
    "                R[i] = Rational(A[i], 1)\n",
    "            else:\n",
    "                R[i] = A[i]\n",
    "    else:\n",
    "        #identified A as a matrix\n",
    "        #two loops are needed to iterate through all values\n",
    "        for i in range(Y[0]):\n",
    "            for j in range(Y[1]):\n",
    "                if type(A[i][j]) == fractions.Fraction:\n",
    "                    R[i][j] = Rational(A[i][j].numerator, A[i][j].denominator)\n",
    "                elif type(A[i][j]) in [int, float, np.int32, np.float64]:\n",
    "                    R[i][j] = Rational(A[i][j], 1)\n",
    "                else:\n",
    "                    R[i][j] = A[i][j]\n",
    "    return R\n",
    "\n",
    "def swaprows(A,i,j):\n",
    "    \"\"\"\n",
    "    Swaps rows i and j in a matrix\n",
    "    Parameters\n",
    "    ----------\n",
    "    A: array_like\n",
    "        Matrix to be changed\n",
    "    i: int\n",
    "        Row to be swapped\n",
    "    j: int\n",
    "        Row to be swapped\n",
    "    Returns\n",
    "    -------\n",
    "    A: array_like\n",
    "        Matrix now with swapped rows\n",
    "    Notes\n",
    "    -----\n",
    "    Performs operation in place does not create a copy of A\n",
    "    \"\"\"\n",
    "    A[[i,j]] = A[[j,i]]\n",
    "    return A\n",
    "\n",
    "def rowmult(A,i,c):\n",
    "    \"\"\"\n",
    "    Multiply a row by a factor\n",
    "    Parameters\n",
    "    ----------\n",
    "    A: array_like\n",
    "        Matrix to be changed\n",
    "    i: int\n",
    "        Row to be multiplied\n",
    "    c: float, int\n",
    "        Constant to multiply by\n",
    "    Returns\n",
    "    -------\n",
    "    A: array_like\n",
    "        Matrix now with multiplied row\n",
    "    Notes\n",
    "    -----\n",
    "    Performs operation in place does not create a copy of A\n",
    "    \"\"\"\n",
    "    A[i] *= c\n",
    "    return A\n",
    "\n",
    "def rowaddmult(A,i,j,c=1):\n",
    "    \"\"\"\n",
    "    Add a multiple of another row to a row\n",
    "    Parameters\n",
    "    ----------\n",
    "    A: array_like\n",
    "        Matrix to be changed\n",
    "    i: int\n",
    "        Row to be multiplied\n",
    "    j: int\n",
    "        Row to receive addition\n",
    "    c: float, int\n",
    "        Constant to multiply by\n",
    "    Returns\n",
    "    -------\n",
    "    A: array_like\n",
    "        Matrix now with a modified row\n",
    "    Notes\n",
    "    -----\n",
    "    Performs operation in place does not create a copy of A\n",
    "    \"\"\"\n",
    "    A[j] += c*A[i]\n",
    "    return A\n",
    "\n",
    "def random_matrix(m = 10, n = 10, rand_mxn = False, m_max = 10, m_min = 1, n_max = 10, n_min = 1, int_min = -10, int_max = 10):\n",
    "    \"\"\"\n",
    "    Generates a matrix with random numbers inside. Used for testing.\n",
    "    Parameters\n",
    "    ----------\n",
    "    m: int\n",
    "        Number of rows in matrix\n",
    "    n: int\n",
    "        Number of columns in matrix\n",
    "    rand_mxn: bool\n",
    "        If True ignores variables m and n and generates a matrix based on other parameters\n",
    "    m_min: int\n",
    "        Smallest number of rows that can be randomly generated\n",
    "    m_max: int\n",
    "        Largest number of rows that can be randomly generated\n",
    "    n_min: int\n",
    "        Smallest number of columns that can be randomly generated\n",
    "    n_max: int\n",
    "        Largest number of columns that can be randomly generated\n",
    "    int_min: int\n",
    "        Smallest random integer that can be generated to fill matrix\n",
    "    int_max: int\n",
    "        Largest random integer that can be generated to fill matrix\n",
    "    Returns\n",
    "    -------\n",
    "    A: array_like\n",
    "        Randomly generated matrix\n",
    "        \n",
    "    \"\"\"\n",
    "    if rand_mxn:\n",
    "        A = np.zeros([random.randint(m_min, m_max), random.randint(n_min, n_max)])\n",
    "    else:\n",
    "        A = np.zeros([m, n])\n",
    "    Y = A.shape\n",
    "    for i in range(Y[0]):\n",
    "        for j in range(Y[1]):\n",
    "            A[i][j] = float(random.randint(int_min, int_max))\n",
    "    return A\n"
   ]
  },
  {
   "cell_type": "markdown",
   "id": "b5bc23ab",
   "metadata": {},
   "source": [
    "# 1. NUMPY/SYMPY BUILT-IN FUNCTIONS\n",
    "\n",
    "Numpy has many built in functions, as a general rule, one should use numpy functions if the special features provided by the functions in the notebook are not of use. Numpy runs much faster and more accurately(floating point minimization) than the functions in this notebook due to efficient algorithms.\n",
    "\n",
    "First lets show how to display latex matrices"
   ]
  },
  {
   "cell_type": "code",
   "execution_count": 4,
   "id": "02aa0c0e",
   "metadata": {},
   "outputs": [
    {
     "data": {
      "text/latex": [
       "$$\\left[\\begin{matrix}1 & 2 & 3\\\\4 & 5 & 6\\\\7 & 8 & 9\\end{matrix}\\right]$$"
      ],
      "text/plain": [
       "<IPython.core.display.Latex object>"
      ]
     },
     "metadata": {},
     "output_type": "display_data"
    }
   ],
   "source": [
    "A = np.array([[1, 2, 3],\n",
    "              [4, 5, 6],\n",
    "              [7, 8, 9]])\n",
    "display(Latex('$$' + latex(sp.Matrix(A)) + '$$'))"
   ]
  },
  {
   "cell_type": "markdown",
   "id": "d9da3103",
   "metadata": {},
   "source": [
    "@ between 2 vectors returns the dot product"
   ]
  },
  {
   "cell_type": "code",
   "execution_count": 5,
   "id": "0d36f725",
   "metadata": {},
   "outputs": [
    {
     "data": {
      "text/plain": [
       "32"
      ]
     },
     "execution_count": 5,
     "metadata": {},
     "output_type": "execute_result"
    }
   ],
   "source": [
    "a = np.array([1, 2, 3])\n",
    "b = np.array([4, 5, 6])\n",
    "a @ b"
   ]
  },
  {
   "cell_type": "markdown",
   "id": "5c5ce361",
   "metadata": {},
   "source": [
    "@ between a matrix and a vector returns the matrix multiplied by the vector"
   ]
  },
  {
   "cell_type": "code",
   "execution_count": 6,
   "id": "80d7c4c3",
   "metadata": {},
   "outputs": [
    {
     "data": {
      "text/latex": [
       "$$\\left[\\begin{matrix}68\\\\167\\\\266\\end{matrix}\\right]$$"
      ],
      "text/plain": [
       "<IPython.core.display.Latex object>"
      ]
     },
     "metadata": {},
     "output_type": "display_data"
    }
   ],
   "source": [
    "A = np.array([[1, 2, 3],\n",
    "              [4, 5, 6],\n",
    "              [7, 8, 9]])\n",
    "b = np.array([10, 11, 12])\n",
    "display(Latex('$$' + latex(sp.Matrix(A @ b)) + '$$'))"
   ]
  },
  {
   "cell_type": "markdown",
   "id": "3cc8c90f",
   "metadata": {},
   "source": [
    "@ between a matrix and a matrix returns the matrix multiplied by a matrix"
   ]
  },
  {
   "cell_type": "code",
   "execution_count": 7,
   "id": "4ef3e69f",
   "metadata": {},
   "outputs": [
    {
     "data": {
      "text/latex": [
       "$$\\left[\\begin{matrix}90 & 96 & 102\\\\216 & 231 & 246\\\\342 & 366 & 390\\end{matrix}\\right]$$"
      ],
      "text/plain": [
       "<IPython.core.display.Latex object>"
      ]
     },
     "metadata": {},
     "output_type": "display_data"
    }
   ],
   "source": [
    "A = np.array([[1, 2, 3],\n",
    "              [4, 5, 6],\n",
    "              [7, 8, 9]])\n",
    "B = np.array([[11, 12, 13],\n",
    "              [14, 15, 16],\n",
    "              [17, 18, 19]])\n",
    "display(Latex('$$' + latex(sp.Matrix(A @ B)) + '$$'))"
   ]
  },
  {
   "cell_type": "markdown",
   "id": "1d24a1dc",
   "metadata": {},
   "source": [
    "the .T method of an array returns the transpose of a numpy array"
   ]
  },
  {
   "cell_type": "code",
   "execution_count": 8,
   "id": "fd33f6f3",
   "metadata": {},
   "outputs": [
    {
     "data": {
      "text/latex": [
       "$$\\left[\\begin{matrix}1 & 4 & 7\\\\2 & 5 & 8\\\\3 & 6 & 9\\end{matrix}\\right]$$"
      ],
      "text/plain": [
       "<IPython.core.display.Latex object>"
      ]
     },
     "metadata": {},
     "output_type": "display_data"
    }
   ],
   "source": [
    "A = np.array([[1, 2, 3],\n",
    "              [4, 5, 6],\n",
    "              [7, 8, 9]])\n",
    "display(Latex('$$' + latex(sp.Matrix(A.T)) + '$$'))"
   ]
  },
  {
   "cell_type": "markdown",
   "id": "eb5d963d",
   "metadata": {},
   "source": [
    "np.cross(a, b) returns the cross product"
   ]
  },
  {
   "cell_type": "code",
   "execution_count": 9,
   "id": "11b82e5d",
   "metadata": {},
   "outputs": [
    {
     "data": {
      "text/latex": [
       "$$\\left[\\begin{matrix}-3\\\\6\\\\-3\\end{matrix}\\right]$$"
      ],
      "text/plain": [
       "<IPython.core.display.Latex object>"
      ]
     },
     "metadata": {},
     "output_type": "display_data"
    }
   ],
   "source": [
    "a = np.array([1, 2, 3])\n",
    "b = np.array([4, 5, 6])\n",
    "display(Latex('$$' + latex(sp.Matrix(np.cross(a, b))) + '$$'))"
   ]
  },
  {
   "cell_type": "markdown",
   "id": "1ee7761f",
   "metadata": {},
   "source": [
    "np.linalg.norm(a) returns the magnitude of a vector"
   ]
  },
  {
   "cell_type": "code",
   "execution_count": 10,
   "id": "5a06a667",
   "metadata": {},
   "outputs": [
    {
     "data": {
      "text/plain": [
       "3.7416573867739413"
      ]
     },
     "execution_count": 10,
     "metadata": {},
     "output_type": "execute_result"
    }
   ],
   "source": [
    "a = np.array([1, 2, 3])\n",
    "np.linalg.norm(a)"
   ]
  },
  {
   "cell_type": "markdown",
   "id": "a8a2140b",
   "metadata": {},
   "source": [
    "The numpy linalg library also provides a myriad of functions such as np.linalg.eig(), np.linalg.qr(), np.linalg.svd(), np.linalg.solve(), np.linalg.det(), np.linalg.inv() etc., more information can be found on https://numpy.org/doc/stable/reference/routines.linalg.html. Functions for solving these problems are included in this python notebook, however if one is doing a serious application they should use the numpy linalg library. "
   ]
  },
  {
   "cell_type": "markdown",
   "id": "c3b2390b",
   "metadata": {},
   "source": [
    "# 2. ROW REDUCTION"
   ]
  },
  {
   "cell_type": "code",
   "execution_count": 11,
   "id": "fa6222b4",
   "metadata": {},
   "outputs": [],
   "source": [
    "def rowred(A, rref = False, human = True, output = False):\n",
    "    \"\"\"\n",
    "    Uses row operations until a matrix is in row echelon form. \n",
    "    It deals with 0 pivots by swapping rows with the next non-zero pivot row.\n",
    "    Parameters\n",
    "    ----------\n",
    "    A: array_like\n",
    "        Matrix to be row reduced\n",
    "    rref: bool\n",
    "        if True, rowred() will go to the full extent and return the \n",
    "        back substituted, reduced row echelon form\n",
    "    human: bool\n",
    "        if False, rowred() will swap rows until it finds the biggest possible pivot\n",
    "    output: bool\n",
    "        if True, rowred() will actually return A_clone\n",
    "    Returns\n",
    "    -------\n",
    "    A_clone: array_like\n",
    "        row echelon form or reduced row echelon form of A, only does so if output == True\n",
    "        \n",
    "    \"\"\"\n",
    "    Y = A.shape\n",
    "    A_clone = preprocess(A)\n",
    "    for i in range(Y[1]):\n",
    "        if i < Y[0] and human == False:\n",
    "            pivot = i + np.argmax(abs(A_clone[i:,i]))\n",
    "            if pivot != i:                    \n",
    "                swaprows(A_clone, pivot, i)\n",
    "                print('Swapped row ' + str(i + 1) + ' with row ' + str(pivot + 1))\n",
    "                display(Latex('$$' + latex(sp.Matrix(A_clone)) + '$$'))\n",
    "        for j in range(i + 1, Y[0]):\n",
    "            breaker = False\n",
    "            if A_clone[i][i] == 0:\n",
    "                breaker = True\n",
    "                for k in range(i + 1,Y[0]):\n",
    "                    if A_clone[k][i] != 0:\n",
    "                        swaprows(A_clone, k, i)\n",
    "                        print('Swapped row ' + str(i+1) + ' with row ' + str(k+1))\n",
    "                        display(Latex('$$' + latex(sp.Matrix(A_clone)) + '$$'))\n",
    "                        breaker = False\n",
    "                        continue\n",
    "            if breaker:\n",
    "                break\n",
    "            c = -(A_clone[j][i] / A_clone[i][i])\n",
    "            rowaddmult(A_clone, i, j, c)\n",
    "            if c != 0:\n",
    "                print('Subtract ' + str(-c) + ' times row ' + str(i + 1) + ' from row ' + str(j + 1))\n",
    "                display(Latex('$$' + latex(sp.Matrix(A_clone)) + '$$'))\n",
    "    if rref:\n",
    "        for i in range(Y[0] - 1, -1, -1):\n",
    "            for j in range(Y[1]):\n",
    "                pivot = None\n",
    "                if abs(A_clone[i][j]) > 0:\n",
    "                    pivot = j\n",
    "                    c = A_clone[i][j]\n",
    "                    rowmult(A_clone, i, 1 / c)\n",
    "                    print('Divide row ' + str(i + 1) + ' by ' + str(c))\n",
    "                    display(Latex('$$' + latex(sp.Matrix(A_clone)) + '$$'))\n",
    "                    break\n",
    "            if pivot != None:\n",
    "                for j in range(i - 1, -1, -1):\n",
    "                    c = -(A_clone[j][pivot] / A_clone[i][pivot])\n",
    "                    rowaddmult(A_clone, i, j, c)\n",
    "                    if c != 0:\n",
    "                        print('Subtract ' + str(-c) + ' times row ' + str(i + 1) + ' from row ' + str(j + 1))\n",
    "                        display(Latex('$$' + latex(sp.Matrix(A_clone)) + '$$'))\n",
    "    if output:\n",
    "        return A_clone"
   ]
  },
  {
   "cell_type": "markdown",
   "id": "2f0f0580",
   "metadata": {},
   "source": [
    "#### examples:\n",
    "\n",
    "row reduce the matrix\n",
    "\n",
    "$$A=\\begin{bmatrix}\n",
    "3 & 0 & 2 & 15\\\\\n",
    "2 & 1 & -2 & 5\\\\\n",
    "0 & 11 & 1 & 32\n",
    "\\end{bmatrix}$$\n"
   ]
  },
  {
   "cell_type": "code",
   "execution_count": 12,
   "id": "7e127491",
   "metadata": {
    "scrolled": true
   },
   "outputs": [
    {
     "name": "stdout",
     "output_type": "stream",
     "text": [
      "Subtract 2/3 times row 1 from row 2\n"
     ]
    },
    {
     "data": {
      "text/latex": [
       "$$\\left[\\begin{matrix}3 & 0 & 2 & 15\\\\0 & 1 & - \\frac{10}{3} & -5\\\\0 & 11 & 1 & 32\\end{matrix}\\right]$$"
      ],
      "text/plain": [
       "<IPython.core.display.Latex object>"
      ]
     },
     "metadata": {},
     "output_type": "display_data"
    },
    {
     "name": "stdout",
     "output_type": "stream",
     "text": [
      "Subtract 11 times row 2 from row 3\n"
     ]
    },
    {
     "data": {
      "text/latex": [
       "$$\\left[\\begin{matrix}3 & 0 & 2 & 15\\\\0 & 1 & - \\frac{10}{3} & -5\\\\0 & 0 & \\frac{113}{3} & 87\\end{matrix}\\right]$$"
      ],
      "text/plain": [
       "<IPython.core.display.Latex object>"
      ]
     },
     "metadata": {},
     "output_type": "display_data"
    }
   ],
   "source": [
    "A = np.array([[3, 0, 2, 15],\n",
    "              [2, 1, -2, 5],\n",
    "              [0, 11, 1, 32]])\n",
    "rowred(A)"
   ]
  },
  {
   "cell_type": "markdown",
   "id": "e2ffc6ab",
   "metadata": {},
   "source": [
    "row reduce the matrix using a computer algorithm, maximum partial pivoting\n",
    "\n",
    "$$A=\\begin{bmatrix}\n",
    "3 & 0 & 2 & 15\\\\\n",
    "2 & 1 & -2 & 5\\\\\n",
    "0 & 11 & 1 & 32\n",
    "\\end{bmatrix}$$\n",
    "\n"
   ]
  },
  {
   "cell_type": "code",
   "execution_count": 13,
   "id": "869c307c",
   "metadata": {},
   "outputs": [
    {
     "name": "stdout",
     "output_type": "stream",
     "text": [
      "Subtract 2/3 times row 1 from row 2\n"
     ]
    },
    {
     "data": {
      "text/latex": [
       "$$\\left[\\begin{matrix}3 & 0 & 2 & 15\\\\0 & 1 & - \\frac{10}{3} & -5\\\\0 & 11 & 1 & 32\\end{matrix}\\right]$$"
      ],
      "text/plain": [
       "<IPython.core.display.Latex object>"
      ]
     },
     "metadata": {},
     "output_type": "display_data"
    },
    {
     "name": "stdout",
     "output_type": "stream",
     "text": [
      "Swapped row 2 with row 3\n"
     ]
    },
    {
     "data": {
      "text/latex": [
       "$$\\left[\\begin{matrix}3 & 0 & 2 & 15\\\\0 & 11 & 1 & 32\\\\0 & 1 & - \\frac{10}{3} & -5\\end{matrix}\\right]$$"
      ],
      "text/plain": [
       "<IPython.core.display.Latex object>"
      ]
     },
     "metadata": {},
     "output_type": "display_data"
    },
    {
     "name": "stdout",
     "output_type": "stream",
     "text": [
      "Subtract 1/11 times row 2 from row 3\n"
     ]
    },
    {
     "data": {
      "text/latex": [
       "$$\\left[\\begin{matrix}3 & 0 & 2 & 15\\\\0 & 11 & 1 & 32\\\\0 & 0 & - \\frac{113}{33} & - \\frac{87}{11}\\end{matrix}\\right]$$"
      ],
      "text/plain": [
       "<IPython.core.display.Latex object>"
      ]
     },
     "metadata": {},
     "output_type": "display_data"
    }
   ],
   "source": [
    "A = np.array([[3, 0, 2, 15],\n",
    "              [2, 1, -2, 5],\n",
    "              [0, 11, 1, 32]])\n",
    "rowred(A, human = False)"
   ]
  },
  {
   "cell_type": "markdown",
   "id": "5d9fb51e",
   "metadata": {},
   "source": [
    "row reduce the matrix\n",
    "\n",
    "$$A=\\begin{bmatrix}\n",
    "a & b & c\\\\\n",
    "d & e & f\\\\\n",
    "g & h & i\n",
    "\\end{bmatrix}$$\n"
   ]
  },
  {
   "cell_type": "code",
   "execution_count": 14,
   "id": "32444497",
   "metadata": {},
   "outputs": [
    {
     "name": "stdout",
     "output_type": "stream",
     "text": [
      "Subtract d/a times row 1 from row 2\n"
     ]
    },
    {
     "data": {
      "text/latex": [
       "$$\\left[\\begin{matrix}a & b & c\\\\0 & e - \\frac{b d}{a} & f - \\frac{c d}{a}\\\\g & h & i\\end{matrix}\\right]$$"
      ],
      "text/plain": [
       "<IPython.core.display.Latex object>"
      ]
     },
     "metadata": {},
     "output_type": "display_data"
    },
    {
     "name": "stdout",
     "output_type": "stream",
     "text": [
      "Subtract g/a times row 1 from row 3\n"
     ]
    },
    {
     "data": {
      "text/latex": [
       "$$\\left[\\begin{matrix}a & b & c\\\\0 & e - \\frac{b d}{a} & f - \\frac{c d}{a}\\\\0 & h - \\frac{b g}{a} & i - \\frac{c g}{a}\\end{matrix}\\right]$$"
      ],
      "text/plain": [
       "<IPython.core.display.Latex object>"
      ]
     },
     "metadata": {},
     "output_type": "display_data"
    },
    {
     "name": "stdout",
     "output_type": "stream",
     "text": [
      "Subtract (h - b*g/a)/(e - b*d/a) times row 2 from row 3\n"
     ]
    },
    {
     "data": {
      "text/latex": [
       "$$\\left[\\begin{matrix}a & b & c\\\\0 & e - \\frac{b d}{a} & f - \\frac{c d}{a}\\\\0 & 0 & i - \\frac{\\left(f - \\frac{c d}{a}\\right) \\left(h - \\frac{b g}{a}\\right)}{e - \\frac{b d}{a}} - \\frac{c g}{a}\\end{matrix}\\right]$$"
      ],
      "text/plain": [
       "<IPython.core.display.Latex object>"
      ]
     },
     "metadata": {},
     "output_type": "display_data"
    }
   ],
   "source": [
    "a, b, c, d, e, f, g, h, i = symbols('a b c d e f g h i')\n",
    "A = np.array([[a, b, c],\n",
    "              [d, e, f],\n",
    "              [g, h, i]])\n",
    "rowred(A)"
   ]
  },
  {
   "cell_type": "markdown",
   "id": "5f5e344a",
   "metadata": {},
   "source": [
    "Solve for the system of linear equations\n",
    "\n",
    "$$3x + 2z = 15$$\n",
    "$$2x + 11y - 2z = -5$$\n",
    "$$y + z = 32$$"
   ]
  },
  {
   "cell_type": "code",
   "execution_count": 15,
   "id": "1b338cf2",
   "metadata": {},
   "outputs": [
    {
     "name": "stdout",
     "output_type": "stream",
     "text": [
      "Subtract 2/3 times row 1 from row 2\n"
     ]
    },
    {
     "data": {
      "text/latex": [
       "$$\\left[\\begin{matrix}3 & 0 & 2 & 15\\\\0 & 11 & - \\frac{10}{3} & -5\\\\0 & 1 & 1 & 32\\end{matrix}\\right]$$"
      ],
      "text/plain": [
       "<IPython.core.display.Latex object>"
      ]
     },
     "metadata": {},
     "output_type": "display_data"
    },
    {
     "name": "stdout",
     "output_type": "stream",
     "text": [
      "Subtract 1/11 times row 2 from row 3\n"
     ]
    },
    {
     "data": {
      "text/latex": [
       "$$\\left[\\begin{matrix}3 & 0 & 2 & 15\\\\0 & 11 & - \\frac{10}{3} & -5\\\\0 & 0 & \\frac{43}{33} & \\frac{357}{11}\\end{matrix}\\right]$$"
      ],
      "text/plain": [
       "<IPython.core.display.Latex object>"
      ]
     },
     "metadata": {},
     "output_type": "display_data"
    },
    {
     "name": "stdout",
     "output_type": "stream",
     "text": [
      "Divide row 3 by 43/33\n"
     ]
    },
    {
     "data": {
      "text/latex": [
       "$$\\left[\\begin{matrix}3 & 0 & 2 & 15\\\\0 & 11 & - \\frac{10}{3} & -5\\\\0 & 0 & 1 & \\frac{1071}{43}\\end{matrix}\\right]$$"
      ],
      "text/plain": [
       "<IPython.core.display.Latex object>"
      ]
     },
     "metadata": {},
     "output_type": "display_data"
    },
    {
     "name": "stdout",
     "output_type": "stream",
     "text": [
      "Subtract -10/3 times row 3 from row 2\n"
     ]
    },
    {
     "data": {
      "text/latex": [
       "$$\\left[\\begin{matrix}3 & 0 & 2 & 15\\\\0 & 11 & 0 & \\frac{3355}{43}\\\\0 & 0 & 1 & \\frac{1071}{43}\\end{matrix}\\right]$$"
      ],
      "text/plain": [
       "<IPython.core.display.Latex object>"
      ]
     },
     "metadata": {},
     "output_type": "display_data"
    },
    {
     "name": "stdout",
     "output_type": "stream",
     "text": [
      "Subtract 2 times row 3 from row 1\n"
     ]
    },
    {
     "data": {
      "text/latex": [
       "$$\\left[\\begin{matrix}3 & 0 & 0 & - \\frac{1497}{43}\\\\0 & 11 & 0 & \\frac{3355}{43}\\\\0 & 0 & 1 & \\frac{1071}{43}\\end{matrix}\\right]$$"
      ],
      "text/plain": [
       "<IPython.core.display.Latex object>"
      ]
     },
     "metadata": {},
     "output_type": "display_data"
    },
    {
     "name": "stdout",
     "output_type": "stream",
     "text": [
      "Divide row 2 by 11\n"
     ]
    },
    {
     "data": {
      "text/latex": [
       "$$\\left[\\begin{matrix}3 & 0 & 0 & - \\frac{1497}{43}\\\\0 & 1 & 0 & \\frac{305}{43}\\\\0 & 0 & 1 & \\frac{1071}{43}\\end{matrix}\\right]$$"
      ],
      "text/plain": [
       "<IPython.core.display.Latex object>"
      ]
     },
     "metadata": {},
     "output_type": "display_data"
    },
    {
     "name": "stdout",
     "output_type": "stream",
     "text": [
      "Divide row 1 by 3\n"
     ]
    },
    {
     "data": {
      "text/latex": [
       "$$\\left[\\begin{matrix}1 & 0 & 0 & - \\frac{499}{43}\\\\0 & 1 & 0 & \\frac{305}{43}\\\\0 & 0 & 1 & \\frac{1071}{43}\\end{matrix}\\right]$$"
      ],
      "text/plain": [
       "<IPython.core.display.Latex object>"
      ]
     },
     "metadata": {},
     "output_type": "display_data"
    }
   ],
   "source": [
    "A = np.array([[3, 0, 2, 15],\n",
    "              [2, 11, -2, 5],\n",
    "              [0, 1, 1, 32]])\n",
    "rowred(A, rref = True)"
   ]
  },
  {
   "cell_type": "markdown",
   "id": "0f30ff5a",
   "metadata": {},
   "source": [
    "hence,\n",
    "$$x = - \\frac{499}{43}$$\n",
    "$$y = \\frac{305}{43}$$\n",
    "$$z = \\frac{1071}{43}$$"
   ]
  },
  {
   "cell_type": "code",
   "execution_count": 16,
   "id": "cc12548d",
   "metadata": {},
   "outputs": [],
   "source": [
    "#your code here"
   ]
  },
  {
   "cell_type": "markdown",
   "id": "9d258756",
   "metadata": {},
   "source": [
    "# 3. LINEAR INDEPENDENCE"
   ]
  },
  {
   "cell_type": "code",
   "execution_count": 17,
   "id": "da8bce54",
   "metadata": {},
   "outputs": [],
   "source": [
    "def is_li(A, human = True, output = False):\n",
    "    \"\"\"\n",
    "    Finds out whether a matrix is linearly independent\n",
    "    Parameters\n",
    "    ----------\n",
    "    A: array_like\n",
    "        Matrix in question\n",
    "    human: bool\n",
    "        if False, rowred() will swap rows until it finds the biggest possible pivot\n",
    "    output: bool\n",
    "        if True, is_li() will actually return independent\n",
    "    Returns\n",
    "    -------\n",
    "    independent: bool\n",
    "        a boolean representing whether A is linearly independent or not\n",
    "        only is returned if output == True\n",
    "        \n",
    "    \"\"\"\n",
    "    relation = rowred(A, rref = False, human = human, output = True)\n",
    "    Y = A.shape\n",
    "    independent = True\n",
    "    if abs(relation[Y[1]-1][Y[1]-1]) == 0:\n",
    "        independent = False\n",
    "        print('As there are not ' + str(Y[1]) + ' non-zero rows, the set of vectors is not independent.')\n",
    "    if independent:\n",
    "        print('As there are ' + str(Y[1]) + ' non-zero rows, the set of vectors is independent.')\n",
    "    if output:\n",
    "        return independent"
   ]
  },
  {
   "cell_type": "markdown",
   "id": "a081bbeb",
   "metadata": {},
   "source": [
    "#### example:\n",
    "    \n",
    "is this set of vectors linearly independent?\n",
    "\n",
    "$$v_1=\\begin{bmatrix}1 \\\\ 1 \\\\ 3 \\\\ 3\\end{bmatrix} v_2=\\begin{bmatrix}-1 \\\\ 1 \\\\ -1 \\\\ -3\\end{bmatrix} v_3=\\begin{bmatrix}2 \\\\ 5 \\\\ 9 \\\\ 6\\end{bmatrix}$$"
   ]
  },
  {
   "cell_type": "code",
   "execution_count": 18,
   "id": "07134bd8",
   "metadata": {
    "scrolled": true
   },
   "outputs": [
    {
     "name": "stdout",
     "output_type": "stream",
     "text": [
      "Subtract 1 times row 1 from row 2\n"
     ]
    },
    {
     "data": {
      "text/latex": [
       "$$\\left[\\begin{matrix}1 & -1 & 2\\\\0 & 2 & 3\\\\3 & -1 & 9\\\\3 & -3 & 6\\end{matrix}\\right]$$"
      ],
      "text/plain": [
       "<IPython.core.display.Latex object>"
      ]
     },
     "metadata": {},
     "output_type": "display_data"
    },
    {
     "name": "stdout",
     "output_type": "stream",
     "text": [
      "Subtract 3 times row 1 from row 3\n"
     ]
    },
    {
     "data": {
      "text/latex": [
       "$$\\left[\\begin{matrix}1 & -1 & 2\\\\0 & 2 & 3\\\\0 & 2 & 3\\\\3 & -3 & 6\\end{matrix}\\right]$$"
      ],
      "text/plain": [
       "<IPython.core.display.Latex object>"
      ]
     },
     "metadata": {},
     "output_type": "display_data"
    },
    {
     "name": "stdout",
     "output_type": "stream",
     "text": [
      "Subtract 3 times row 1 from row 4\n"
     ]
    },
    {
     "data": {
      "text/latex": [
       "$$\\left[\\begin{matrix}1 & -1 & 2\\\\0 & 2 & 3\\\\0 & 2 & 3\\\\0 & 0 & 0\\end{matrix}\\right]$$"
      ],
      "text/plain": [
       "<IPython.core.display.Latex object>"
      ]
     },
     "metadata": {},
     "output_type": "display_data"
    },
    {
     "name": "stdout",
     "output_type": "stream",
     "text": [
      "Subtract 1 times row 2 from row 3\n"
     ]
    },
    {
     "data": {
      "text/latex": [
       "$$\\left[\\begin{matrix}1 & -1 & 2\\\\0 & 2 & 3\\\\0 & 0 & 0\\\\0 & 0 & 0\\end{matrix}\\right]$$"
      ],
      "text/plain": [
       "<IPython.core.display.Latex object>"
      ]
     },
     "metadata": {},
     "output_type": "display_data"
    },
    {
     "name": "stdout",
     "output_type": "stream",
     "text": [
      "As there are not 3 non-zero rows, the set of vectors is not independent.\n"
     ]
    }
   ],
   "source": [
    "A = np.array([[1, -1, 2],\n",
    "              [1, 1, 5],\n",
    "              [3, -1, 9],\n",
    "              [3, -3, 6]])\n",
    "is_li(A)"
   ]
  },
  {
   "cell_type": "code",
   "execution_count": 19,
   "id": "6f22d9d4",
   "metadata": {},
   "outputs": [],
   "source": [
    "#your code here"
   ]
  },
  {
   "cell_type": "markdown",
   "id": "1b608a36",
   "metadata": {},
   "source": [
    "# 4. RANK"
   ]
  },
  {
   "cell_type": "code",
   "execution_count": 20,
   "id": "14379528",
   "metadata": {},
   "outputs": [],
   "source": [
    "def rank(A, human = True, output = False, statement = True):\n",
    "    \"\"\"\n",
    "    Finds the rank of a matrix\n",
    "    Parameters\n",
    "    ----------\n",
    "    A: array_like\n",
    "        Matrix in question\n",
    "    human: bool\n",
    "        if False, rowred() will swap rows until it finds the biggest possible pivot\n",
    "    output: bool\n",
    "        if True, rank() will actually return A_clone\n",
    "    statement: bool\n",
    "        if False, rank() will not display messages, used due to rank() being used in\n",
    "        other functions\n",
    "    Returns\n",
    "    -------\n",
    "    rank: int\n",
    "        the rank of a matrix only will be returned if output == True\n",
    "    \"\"\"\n",
    "    relation = rowred(A, rref = False, human = human, output = True)\n",
    "    Y = A.shape\n",
    "    rank = Y[0]\n",
    "    for i in range(Y[0]):\n",
    "        if np.sum(abs(relation[i])) == 0:\n",
    "            rank -= 1\n",
    "    if statement:\n",
    "        print('There are ' + str(rank) + ' non-zero rows in the row reduced form')\n",
    "    if output:\n",
    "        return rank"
   ]
  },
  {
   "cell_type": "markdown",
   "id": "414487a4",
   "metadata": {},
   "source": [
    "#### example:\n",
    "    \n",
    "what is the rank of the matrix\n",
    "\n",
    "$$A=\\begin{bmatrix}\n",
    "1 & -1 & 2\\\\\n",
    "1 & 1 & 5\\\\\n",
    "3 & -1 & 9\\\\\n",
    "3 & -3 & 6\n",
    "\\end{bmatrix}$$"
   ]
  },
  {
   "cell_type": "code",
   "execution_count": 21,
   "id": "f5df2b9d",
   "metadata": {},
   "outputs": [
    {
     "name": "stdout",
     "output_type": "stream",
     "text": [
      "Subtract 1 times row 1 from row 2\n"
     ]
    },
    {
     "data": {
      "text/latex": [
       "$$\\left[\\begin{matrix}1 & -1 & 2\\\\0 & 2 & 3\\\\3 & -1 & 9\\\\3 & -3 & 6\\end{matrix}\\right]$$"
      ],
      "text/plain": [
       "<IPython.core.display.Latex object>"
      ]
     },
     "metadata": {},
     "output_type": "display_data"
    },
    {
     "name": "stdout",
     "output_type": "stream",
     "text": [
      "Subtract 3 times row 1 from row 3\n"
     ]
    },
    {
     "data": {
      "text/latex": [
       "$$\\left[\\begin{matrix}1 & -1 & 2\\\\0 & 2 & 3\\\\0 & 2 & 3\\\\3 & -3 & 6\\end{matrix}\\right]$$"
      ],
      "text/plain": [
       "<IPython.core.display.Latex object>"
      ]
     },
     "metadata": {},
     "output_type": "display_data"
    },
    {
     "name": "stdout",
     "output_type": "stream",
     "text": [
      "Subtract 3 times row 1 from row 4\n"
     ]
    },
    {
     "data": {
      "text/latex": [
       "$$\\left[\\begin{matrix}1 & -1 & 2\\\\0 & 2 & 3\\\\0 & 2 & 3\\\\0 & 0 & 0\\end{matrix}\\right]$$"
      ],
      "text/plain": [
       "<IPython.core.display.Latex object>"
      ]
     },
     "metadata": {},
     "output_type": "display_data"
    },
    {
     "name": "stdout",
     "output_type": "stream",
     "text": [
      "Subtract 1 times row 2 from row 3\n"
     ]
    },
    {
     "data": {
      "text/latex": [
       "$$\\left[\\begin{matrix}1 & -1 & 2\\\\0 & 2 & 3\\\\0 & 0 & 0\\\\0 & 0 & 0\\end{matrix}\\right]$$"
      ],
      "text/plain": [
       "<IPython.core.display.Latex object>"
      ]
     },
     "metadata": {},
     "output_type": "display_data"
    },
    {
     "name": "stdout",
     "output_type": "stream",
     "text": [
      "There are 2 non-zero rows in the row reduced form\n"
     ]
    }
   ],
   "source": [
    "A = np.array([[1, -1, 2],\n",
    "              [1, 1, 5],\n",
    "              [3, -1, 9],\n",
    "              [3, -3, 6]])\n",
    "rank(A)"
   ]
  },
  {
   "cell_type": "code",
   "execution_count": 22,
   "id": "758f952d",
   "metadata": {},
   "outputs": [],
   "source": [
    "#your code here"
   ]
  },
  {
   "cell_type": "markdown",
   "id": "03e396e6",
   "metadata": {},
   "source": [
    "# 5. LU DECOMPOSITION"
   ]
  },
  {
   "cell_type": "code",
   "execution_count": 23,
   "id": "23706928",
   "metadata": {},
   "outputs": [],
   "source": [
    "def LU(A, output = False):\n",
    "    \"\"\"\n",
    "    finds the PA = LU decomposition of a matrix\n",
    "    Parameters\n",
    "    ----------\n",
    "    A: array_like\n",
    "        Matrix in question\n",
    "    output: bool\n",
    "        if True, LU() will actually return P, L, U and t\n",
    "    Returns\n",
    "    -------\n",
    "    P: array_like\n",
    "        P matrix of a PA = LU decomposition\n",
    "    L: array_like\n",
    "        L matrix of a PA = LU decomposition\n",
    "    U: array_like\n",
    "        U matrix of a PA = LU decomposition\n",
    "    t: int\n",
    "        number of times row swaps were performed\n",
    "        \n",
    "    \"\"\"\n",
    "    Y = A.shape\n",
    "    U = preprocess(A)\n",
    "    L = np.empty(Y, dtype = fractions.Fraction)\n",
    "    for i in range(Y[0]):\n",
    "        for j in range(Y[1]):\n",
    "            L[i][j] = Fraction(0,1)\n",
    "    P = np.eye(Y[0],Y[1], dtype = int)\n",
    "    t = 0\n",
    "    for i in range(Y[0]):\n",
    "        pivot = i + np.argmax(abs(U[-Y[0] + i:,i]))\n",
    "        if pivot != i:\n",
    "            t += 1\n",
    "            swaprows(P, pivot, i) \n",
    "            swaprows(L, pivot, i)\n",
    "            swaprows(U, pivot, i)\n",
    "            print('Swapped row ' + str(i + 1) + ' with row ' + str(pivot + 1))\n",
    "            print('P:')\n",
    "            display(Latex('$$' + latex(sp.Matrix(P)) + '$$'))\n",
    "            print('L:')\n",
    "            display(Latex('$$' + latex(sp.Matrix(L)) + '$$'))\n",
    "            print('U:')\n",
    "            display(Latex('$$' + latex(sp.Matrix(U)) + '$$'))\n",
    "        for j in range(i+1, Y[0]):\n",
    "            c = U[j][i] / U[i][i]\n",
    "            rowaddmult(U, i, j, -c)\n",
    "            L[j][i] = c\n",
    "            print('Subtract ' + str(-c) + ' times row ' + str(i + 1) \n",
    "                  + ' in U from row ' + str(j + 1) + ' in U')\n",
    "            print('P:')\n",
    "            display(Latex('$$' + latex(sp.Matrix(P)) + '$$'))\n",
    "            print('L:')\n",
    "            display(Latex('$$' + latex(sp.Matrix(L)) + '$$'))\n",
    "            print('U:')\n",
    "            display(Latex('$$' + latex(sp.Matrix(U)) + '$$'))\n",
    "    np.fill_diagonal(L, 1)\n",
    "    print('fill L matrix diagonal')\n",
    "    print('P:')\n",
    "    display(Latex('$$' + latex(sp.Matrix(P)) + '$$'))\n",
    "    print('L:')\n",
    "    display(Latex('$$' + latex(sp.Matrix(L)) + '$$'))\n",
    "    print('U:')\n",
    "    display(Latex('$$' + latex(sp.Matrix(U)) + '$$'))\n",
    "    if output:\n",
    "        return P, L, U, t"
   ]
  },
  {
   "cell_type": "markdown",
   "id": "c6c5460b",
   "metadata": {},
   "source": [
    "### example:\n",
    "\n",
    "find the PA = LU decomposition for the matrix\n",
    "\n",
    "$$A=\\begin{bmatrix}\n",
    "3 & 0 & 2\\\\\n",
    "2 & 0 & -2 \\\\\n",
    "0 & 1 & 1\n",
    "\\end{bmatrix}$$"
   ]
  },
  {
   "cell_type": "code",
   "execution_count": 24,
   "id": "77df48fd",
   "metadata": {
    "scrolled": true
   },
   "outputs": [
    {
     "name": "stdout",
     "output_type": "stream",
     "text": [
      "Subtract -2/3 times row 1 in U from row 2 in U\n",
      "P:\n"
     ]
    },
    {
     "data": {
      "text/latex": [
       "$$\\left[\\begin{matrix}1 & 0 & 0\\\\0 & 1 & 0\\\\0 & 0 & 1\\end{matrix}\\right]$$"
      ],
      "text/plain": [
       "<IPython.core.display.Latex object>"
      ]
     },
     "metadata": {},
     "output_type": "display_data"
    },
    {
     "name": "stdout",
     "output_type": "stream",
     "text": [
      "L:\n"
     ]
    },
    {
     "data": {
      "text/latex": [
       "$$\\left[\\begin{matrix}0 & 0 & 0\\\\\\frac{2}{3} & 0 & 0\\\\0 & 0 & 0\\end{matrix}\\right]$$"
      ],
      "text/plain": [
       "<IPython.core.display.Latex object>"
      ]
     },
     "metadata": {},
     "output_type": "display_data"
    },
    {
     "name": "stdout",
     "output_type": "stream",
     "text": [
      "U:\n"
     ]
    },
    {
     "data": {
      "text/latex": [
       "$$\\left[\\begin{matrix}3 & 0 & 2\\\\0 & 0 & - \\frac{10}{3}\\\\0 & 1 & 1\\end{matrix}\\right]$$"
      ],
      "text/plain": [
       "<IPython.core.display.Latex object>"
      ]
     },
     "metadata": {},
     "output_type": "display_data"
    },
    {
     "name": "stdout",
     "output_type": "stream",
     "text": [
      "Subtract 0 times row 1 in U from row 3 in U\n",
      "P:\n"
     ]
    },
    {
     "data": {
      "text/latex": [
       "$$\\left[\\begin{matrix}1 & 0 & 0\\\\0 & 1 & 0\\\\0 & 0 & 1\\end{matrix}\\right]$$"
      ],
      "text/plain": [
       "<IPython.core.display.Latex object>"
      ]
     },
     "metadata": {},
     "output_type": "display_data"
    },
    {
     "name": "stdout",
     "output_type": "stream",
     "text": [
      "L:\n"
     ]
    },
    {
     "data": {
      "text/latex": [
       "$$\\left[\\begin{matrix}0 & 0 & 0\\\\\\frac{2}{3} & 0 & 0\\\\0 & 0 & 0\\end{matrix}\\right]$$"
      ],
      "text/plain": [
       "<IPython.core.display.Latex object>"
      ]
     },
     "metadata": {},
     "output_type": "display_data"
    },
    {
     "name": "stdout",
     "output_type": "stream",
     "text": [
      "U:\n"
     ]
    },
    {
     "data": {
      "text/latex": [
       "$$\\left[\\begin{matrix}3 & 0 & 2\\\\0 & 0 & - \\frac{10}{3}\\\\0 & 1 & 1\\end{matrix}\\right]$$"
      ],
      "text/plain": [
       "<IPython.core.display.Latex object>"
      ]
     },
     "metadata": {},
     "output_type": "display_data"
    },
    {
     "name": "stdout",
     "output_type": "stream",
     "text": [
      "Swapped row 2 with row 3\n",
      "P:\n"
     ]
    },
    {
     "data": {
      "text/latex": [
       "$$\\left[\\begin{matrix}1 & 0 & 0\\\\0 & 0 & 1\\\\0 & 1 & 0\\end{matrix}\\right]$$"
      ],
      "text/plain": [
       "<IPython.core.display.Latex object>"
      ]
     },
     "metadata": {},
     "output_type": "display_data"
    },
    {
     "name": "stdout",
     "output_type": "stream",
     "text": [
      "L:\n"
     ]
    },
    {
     "data": {
      "text/latex": [
       "$$\\left[\\begin{matrix}0 & 0 & 0\\\\0 & 0 & 0\\\\\\frac{2}{3} & 0 & 0\\end{matrix}\\right]$$"
      ],
      "text/plain": [
       "<IPython.core.display.Latex object>"
      ]
     },
     "metadata": {},
     "output_type": "display_data"
    },
    {
     "name": "stdout",
     "output_type": "stream",
     "text": [
      "U:\n"
     ]
    },
    {
     "data": {
      "text/latex": [
       "$$\\left[\\begin{matrix}3 & 0 & 2\\\\0 & 1 & 1\\\\0 & 0 & - \\frac{10}{3}\\end{matrix}\\right]$$"
      ],
      "text/plain": [
       "<IPython.core.display.Latex object>"
      ]
     },
     "metadata": {},
     "output_type": "display_data"
    },
    {
     "name": "stdout",
     "output_type": "stream",
     "text": [
      "Subtract 0 times row 2 in U from row 3 in U\n",
      "P:\n"
     ]
    },
    {
     "data": {
      "text/latex": [
       "$$\\left[\\begin{matrix}1 & 0 & 0\\\\0 & 0 & 1\\\\0 & 1 & 0\\end{matrix}\\right]$$"
      ],
      "text/plain": [
       "<IPython.core.display.Latex object>"
      ]
     },
     "metadata": {},
     "output_type": "display_data"
    },
    {
     "name": "stdout",
     "output_type": "stream",
     "text": [
      "L:\n"
     ]
    },
    {
     "data": {
      "text/latex": [
       "$$\\left[\\begin{matrix}0 & 0 & 0\\\\0 & 0 & 0\\\\\\frac{2}{3} & 0 & 0\\end{matrix}\\right]$$"
      ],
      "text/plain": [
       "<IPython.core.display.Latex object>"
      ]
     },
     "metadata": {},
     "output_type": "display_data"
    },
    {
     "name": "stdout",
     "output_type": "stream",
     "text": [
      "U:\n"
     ]
    },
    {
     "data": {
      "text/latex": [
       "$$\\left[\\begin{matrix}3 & 0 & 2\\\\0 & 1 & 1\\\\0 & 0 & - \\frac{10}{3}\\end{matrix}\\right]$$"
      ],
      "text/plain": [
       "<IPython.core.display.Latex object>"
      ]
     },
     "metadata": {},
     "output_type": "display_data"
    },
    {
     "name": "stdout",
     "output_type": "stream",
     "text": [
      "fill L matrix diagonal\n",
      "P:\n"
     ]
    },
    {
     "data": {
      "text/latex": [
       "$$\\left[\\begin{matrix}1 & 0 & 0\\\\0 & 0 & 1\\\\0 & 1 & 0\\end{matrix}\\right]$$"
      ],
      "text/plain": [
       "<IPython.core.display.Latex object>"
      ]
     },
     "metadata": {},
     "output_type": "display_data"
    },
    {
     "name": "stdout",
     "output_type": "stream",
     "text": [
      "L:\n"
     ]
    },
    {
     "data": {
      "text/latex": [
       "$$\\left[\\begin{matrix}1 & 0 & 0\\\\0 & 1 & 0\\\\\\frac{2}{3} & 0 & 1\\end{matrix}\\right]$$"
      ],
      "text/plain": [
       "<IPython.core.display.Latex object>"
      ]
     },
     "metadata": {},
     "output_type": "display_data"
    },
    {
     "name": "stdout",
     "output_type": "stream",
     "text": [
      "U:\n"
     ]
    },
    {
     "data": {
      "text/latex": [
       "$$\\left[\\begin{matrix}3 & 0 & 2\\\\0 & 1 & 1\\\\0 & 0 & - \\frac{10}{3}\\end{matrix}\\right]$$"
      ],
      "text/plain": [
       "<IPython.core.display.Latex object>"
      ]
     },
     "metadata": {},
     "output_type": "display_data"
    }
   ],
   "source": [
    "A = np.array([[3, 0, 2],\n",
    "              [2, 0, -2],\n",
    "              [0, 1, 1]])\n",
    "LU(A)"
   ]
  },
  {
   "cell_type": "code",
   "execution_count": 25,
   "id": "28bba0f3",
   "metadata": {},
   "outputs": [],
   "source": [
    "#your code here"
   ]
  },
  {
   "cell_type": "markdown",
   "id": "c1d7c8e9",
   "metadata": {},
   "source": [
    "# 6. DETERMINANT"
   ]
  },
  {
   "cell_type": "code",
   "execution_count": 26,
   "id": "bced246d",
   "metadata": {},
   "outputs": [],
   "source": [
    "def det_2x2(A, output = False):\n",
    "    \"\"\"\n",
    "    finds the determinant of a 2x2 matrix\n",
    "    Parameters\n",
    "    ----------\n",
    "    A: array_like\n",
    "        Matrix in question\n",
    "    output: bool\n",
    "        if True, det_2x2() will actually return the determinant\n",
    "    Returns\n",
    "    -------\n",
    "    determinant: sympy.core.number\n",
    "        the determinant of the matrix\n",
    "        \n",
    "    \"\"\"\n",
    "    if A.shape != (2,2):\n",
    "        raise ValueError('A is not a 2 by 2 matrix Use a different function')\n",
    "    R = preprocess(A)\n",
    "    determinant = R[0][0] * R[1][1] - R[0][1] * R[1][0]\n",
    "    display(Latex('$$' + str(R[0][0]) + ' ⋅ ' + str(R[1][1]) + ' - ' + str(R[0][1]) + \n",
    "                  ' ⋅ ' + str(R[1][0]) + ' = ' + str(determinant) + '$$'))\n",
    "    if output:\n",
    "        return determinant"
   ]
  },
  {
   "cell_type": "markdown",
   "id": "edb9b25e",
   "metadata": {},
   "source": [
    "#### example:\n",
    "\n",
    "find the determinant of the matrix\n",
    "\n",
    "$$A=\\begin{bmatrix}\n",
    "11 & 13\\\\\n",
    "2 & 7 \\\\\n",
    "\\end{bmatrix}$$"
   ]
  },
  {
   "cell_type": "code",
   "execution_count": 27,
   "id": "7ff5082d",
   "metadata": {},
   "outputs": [
    {
     "data": {
      "text/latex": [
       "$$11 ⋅ 7 - 13 ⋅ 2 = 51$$"
      ],
      "text/plain": [
       "<IPython.core.display.Latex object>"
      ]
     },
     "metadata": {},
     "output_type": "display_data"
    }
   ],
   "source": [
    "A = np.array([[11, 13],\n",
    "              [2, 7]])\n",
    "det_2x2(A)"
   ]
  },
  {
   "cell_type": "code",
   "execution_count": 28,
   "id": "a4e95622",
   "metadata": {},
   "outputs": [],
   "source": [
    "def det_recursive(A):\n",
    "    \"\"\"\n",
    "    recursive function that finds the determinant of a matrix using Laplace expansion\n",
    "    Parameters\n",
    "    ----------\n",
    "    A: array_like\n",
    "        Matrix in question\n",
    "    output: bool\n",
    "        if True, det_recursive() will actually return the determinant\n",
    "    Returns\n",
    "    -------\n",
    "    determinant: sympy.core.number\n",
    "        the determinant of the matrix\n",
    "        \n",
    "    \"\"\"\n",
    "    Y = A.shape\n",
    "    if Y == (1,1):\n",
    "        return A[0][0]\n",
    "    if Y[0] != Y[1]:\n",
    "        raise ValueError('A is not square matrix therefore it has no determinant')\n",
    "    if Y == (2,2):\n",
    "        return ((A[0][0] * A[1][1]) - (A[0][1] * A[1][0]))\n",
    "    determinant = 0\n",
    "    for i in range(Y[1]):\n",
    "        determinant += (A[0][i] * (-1) ** i * \n",
    "        det_recursive(np.concatenate((A[1:,0:i],A[1:,i+1:]), axis = 1)))\n",
    "    return determinant\n",
    "    \n",
    "    "
   ]
  },
  {
   "cell_type": "markdown",
   "id": "9a3504e2",
   "metadata": {},
   "source": [
    "#### example:\n",
    "find the determinant of the matrices:\n",
    "$$A_1=\\begin{bmatrix}\n",
    "3 & 0 & 2\\\\\n",
    "2 & 0 & -2 \\\\\n",
    "0 & 1 & 1\n",
    "\\end{bmatrix}$$\n",
    "\n",
    "$$A_2=\\begin{bmatrix}\n",
    "a & b \\\\\n",
    "0 & c \n",
    "\\end{bmatrix}$$\n",
    "\n",
    "$$A_3=\\begin{bmatrix}\n",
    "a & b & c\\\\\n",
    "0 & d & e \\\\\n",
    "0 & 0 & f\n",
    "\\end{bmatrix}$$\n",
    "\n",
    "$$A_4=\\begin{bmatrix}\n",
    "a & b & c & d\\\\\n",
    "0 & e & f & g\\\\\n",
    "0 & 0 & h & i\\\\\n",
    "0 & 0 & 0 & k\n",
    "\\end{bmatrix}$$"
   ]
  },
  {
   "cell_type": "code",
   "execution_count": 29,
   "id": "21a09d21",
   "metadata": {},
   "outputs": [
    {
     "data": {
      "text/latex": [
       "$\\displaystyle 13$"
      ],
      "text/plain": [
       "13"
      ]
     },
     "execution_count": 29,
     "metadata": {},
     "output_type": "execute_result"
    }
   ],
   "source": [
    "A_1 = np.array([[3.,0,2],\n",
    "              [2,1,-2],\n",
    "              [0,1,1]])\n",
    "det_recursive(preprocess(A_1))"
   ]
  },
  {
   "cell_type": "code",
   "execution_count": 30,
   "id": "1c4b66b7",
   "metadata": {},
   "outputs": [
    {
     "data": {
      "text/latex": [
       "$\\displaystyle a c$"
      ],
      "text/plain": [
       "a*c"
      ]
     },
     "execution_count": 30,
     "metadata": {},
     "output_type": "execute_result"
    }
   ],
   "source": [
    "a, b, c = symbols('a b c')\n",
    "A_2 = np.array([[a, b],\n",
    "                [0, c]])\n",
    "det_recursive(preprocess(A_2))"
   ]
  },
  {
   "cell_type": "code",
   "execution_count": 31,
   "id": "20b2e8ba",
   "metadata": {},
   "outputs": [
    {
     "data": {
      "text/latex": [
       "$\\displaystyle a d f$"
      ],
      "text/plain": [
       "a*d*f"
      ]
     },
     "execution_count": 31,
     "metadata": {},
     "output_type": "execute_result"
    }
   ],
   "source": [
    "a, b, c, d, e, f = symbols('a b c d e f')\n",
    "A_3 = np.array([[a, b, c],\n",
    "                [0, d, e],\n",
    "                [0, 0, f]])\n",
    "det_recursive(preprocess(A_3))"
   ]
  },
  {
   "cell_type": "code",
   "execution_count": 32,
   "id": "49dc6759",
   "metadata": {},
   "outputs": [
    {
     "data": {
      "text/latex": [
       "$\\displaystyle a e h k$"
      ],
      "text/plain": [
       "a*e*h*k"
      ]
     },
     "execution_count": 32,
     "metadata": {},
     "output_type": "execute_result"
    }
   ],
   "source": [
    "a, b, c, d, e, f = symbols('a b c d e f')\n",
    "g, h, i, k = symbols('g h i k')\n",
    "A_4 = np.array([[a, b, c, d],\n",
    "                [0, e, f, g],\n",
    "                [0, 0, h, i],\n",
    "                [0, 0, 0, k]])\n",
    "det_recursive(preprocess(A_4))"
   ]
  },
  {
   "cell_type": "code",
   "execution_count": 33,
   "id": "0cd8f3ba",
   "metadata": {},
   "outputs": [],
   "source": [
    "#your code here"
   ]
  },
  {
   "cell_type": "code",
   "execution_count": 34,
   "id": "95141078",
   "metadata": {},
   "outputs": [],
   "source": [
    "def LUdet(U, t = 1, output = False):\n",
    "    \"\"\"\n",
    "    Calculates the determinant of a matrix based on its LU decomposition\n",
    "    Parameters\n",
    "    ----------\n",
    "    U: array_like\n",
    "        U matrix from LU decomposition\n",
    "    t: int\n",
    "        number of times row swaps were performed to acquire the LU decomposition\n",
    "    output: bool\n",
    "        if True, LUdet() will actually return the determinant\n",
    "    Returns\n",
    "    -------\n",
    "    det_A: sympy.core.number\n",
    "        determinant of the matrix\n",
    "    \"\"\"\n",
    "    Y = U.shape\n",
    "    det_U = 1\n",
    "    for i in range(Y[0]):\n",
    "        det_U *= U[i][i]\n",
    "    display(Latex('$$\\\\frac{' + str(det_U) + '}{-1^' + str(t) + '}$$' ))\n",
    "    det_A = det_U / (-1) ** t\n",
    "    display(Latex('$$' + str(det_A) + '$$'))\n",
    "    if output:\n",
    "        return det_A"
   ]
  },
  {
   "cell_type": "markdown",
   "id": "cf4c1660",
   "metadata": {},
   "source": [
    "#### example:\n",
    "find the determinant of the matrix:\n",
    "$$A=\\begin{bmatrix}\n",
    "3 & 0 & 2\\\\\n",
    "2 & 0 & -2 \\\\\n",
    "0 & 1 & 1\n",
    "\\end{bmatrix}$$"
   ]
  },
  {
   "cell_type": "code",
   "execution_count": 35,
   "id": "49525d2b",
   "metadata": {},
   "outputs": [
    {
     "name": "stdout",
     "output_type": "stream",
     "text": [
      "Subtract -2/3 times row 1 in U from row 2 in U\n",
      "P:\n"
     ]
    },
    {
     "data": {
      "text/latex": [
       "$$\\left[\\begin{matrix}1 & 0 & 0\\\\0 & 1 & 0\\\\0 & 0 & 1\\end{matrix}\\right]$$"
      ],
      "text/plain": [
       "<IPython.core.display.Latex object>"
      ]
     },
     "metadata": {},
     "output_type": "display_data"
    },
    {
     "name": "stdout",
     "output_type": "stream",
     "text": [
      "L:\n"
     ]
    },
    {
     "data": {
      "text/latex": [
       "$$\\left[\\begin{matrix}0 & 0 & 0\\\\\\frac{2}{3} & 0 & 0\\\\0 & 0 & 0\\end{matrix}\\right]$$"
      ],
      "text/plain": [
       "<IPython.core.display.Latex object>"
      ]
     },
     "metadata": {},
     "output_type": "display_data"
    },
    {
     "name": "stdout",
     "output_type": "stream",
     "text": [
      "U:\n"
     ]
    },
    {
     "data": {
      "text/latex": [
       "$$\\left[\\begin{matrix}3 & 0 & 2\\\\0 & 0 & - \\frac{10}{3}\\\\0 & 1 & 1\\end{matrix}\\right]$$"
      ],
      "text/plain": [
       "<IPython.core.display.Latex object>"
      ]
     },
     "metadata": {},
     "output_type": "display_data"
    },
    {
     "name": "stdout",
     "output_type": "stream",
     "text": [
      "Subtract 0 times row 1 in U from row 3 in U\n",
      "P:\n"
     ]
    },
    {
     "data": {
      "text/latex": [
       "$$\\left[\\begin{matrix}1 & 0 & 0\\\\0 & 1 & 0\\\\0 & 0 & 1\\end{matrix}\\right]$$"
      ],
      "text/plain": [
       "<IPython.core.display.Latex object>"
      ]
     },
     "metadata": {},
     "output_type": "display_data"
    },
    {
     "name": "stdout",
     "output_type": "stream",
     "text": [
      "L:\n"
     ]
    },
    {
     "data": {
      "text/latex": [
       "$$\\left[\\begin{matrix}0 & 0 & 0\\\\\\frac{2}{3} & 0 & 0\\\\0 & 0 & 0\\end{matrix}\\right]$$"
      ],
      "text/plain": [
       "<IPython.core.display.Latex object>"
      ]
     },
     "metadata": {},
     "output_type": "display_data"
    },
    {
     "name": "stdout",
     "output_type": "stream",
     "text": [
      "U:\n"
     ]
    },
    {
     "data": {
      "text/latex": [
       "$$\\left[\\begin{matrix}3 & 0 & 2\\\\0 & 0 & - \\frac{10}{3}\\\\0 & 1 & 1\\end{matrix}\\right]$$"
      ],
      "text/plain": [
       "<IPython.core.display.Latex object>"
      ]
     },
     "metadata": {},
     "output_type": "display_data"
    },
    {
     "name": "stdout",
     "output_type": "stream",
     "text": [
      "Swapped row 2 with row 3\n",
      "P:\n"
     ]
    },
    {
     "data": {
      "text/latex": [
       "$$\\left[\\begin{matrix}1 & 0 & 0\\\\0 & 0 & 1\\\\0 & 1 & 0\\end{matrix}\\right]$$"
      ],
      "text/plain": [
       "<IPython.core.display.Latex object>"
      ]
     },
     "metadata": {},
     "output_type": "display_data"
    },
    {
     "name": "stdout",
     "output_type": "stream",
     "text": [
      "L:\n"
     ]
    },
    {
     "data": {
      "text/latex": [
       "$$\\left[\\begin{matrix}0 & 0 & 0\\\\0 & 0 & 0\\\\\\frac{2}{3} & 0 & 0\\end{matrix}\\right]$$"
      ],
      "text/plain": [
       "<IPython.core.display.Latex object>"
      ]
     },
     "metadata": {},
     "output_type": "display_data"
    },
    {
     "name": "stdout",
     "output_type": "stream",
     "text": [
      "U:\n"
     ]
    },
    {
     "data": {
      "text/latex": [
       "$$\\left[\\begin{matrix}3 & 0 & 2\\\\0 & 1 & 1\\\\0 & 0 & - \\frac{10}{3}\\end{matrix}\\right]$$"
      ],
      "text/plain": [
       "<IPython.core.display.Latex object>"
      ]
     },
     "metadata": {},
     "output_type": "display_data"
    },
    {
     "name": "stdout",
     "output_type": "stream",
     "text": [
      "Subtract 0 times row 2 in U from row 3 in U\n",
      "P:\n"
     ]
    },
    {
     "data": {
      "text/latex": [
       "$$\\left[\\begin{matrix}1 & 0 & 0\\\\0 & 0 & 1\\\\0 & 1 & 0\\end{matrix}\\right]$$"
      ],
      "text/plain": [
       "<IPython.core.display.Latex object>"
      ]
     },
     "metadata": {},
     "output_type": "display_data"
    },
    {
     "name": "stdout",
     "output_type": "stream",
     "text": [
      "L:\n"
     ]
    },
    {
     "data": {
      "text/latex": [
       "$$\\left[\\begin{matrix}0 & 0 & 0\\\\0 & 0 & 0\\\\\\frac{2}{3} & 0 & 0\\end{matrix}\\right]$$"
      ],
      "text/plain": [
       "<IPython.core.display.Latex object>"
      ]
     },
     "metadata": {},
     "output_type": "display_data"
    },
    {
     "name": "stdout",
     "output_type": "stream",
     "text": [
      "U:\n"
     ]
    },
    {
     "data": {
      "text/latex": [
       "$$\\left[\\begin{matrix}3 & 0 & 2\\\\0 & 1 & 1\\\\0 & 0 & - \\frac{10}{3}\\end{matrix}\\right]$$"
      ],
      "text/plain": [
       "<IPython.core.display.Latex object>"
      ]
     },
     "metadata": {},
     "output_type": "display_data"
    },
    {
     "name": "stdout",
     "output_type": "stream",
     "text": [
      "fill L matrix diagonal\n",
      "P:\n"
     ]
    },
    {
     "data": {
      "text/latex": [
       "$$\\left[\\begin{matrix}1 & 0 & 0\\\\0 & 0 & 1\\\\0 & 1 & 0\\end{matrix}\\right]$$"
      ],
      "text/plain": [
       "<IPython.core.display.Latex object>"
      ]
     },
     "metadata": {},
     "output_type": "display_data"
    },
    {
     "name": "stdout",
     "output_type": "stream",
     "text": [
      "L:\n"
     ]
    },
    {
     "data": {
      "text/latex": [
       "$$\\left[\\begin{matrix}1 & 0 & 0\\\\0 & 1 & 0\\\\\\frac{2}{3} & 0 & 1\\end{matrix}\\right]$$"
      ],
      "text/plain": [
       "<IPython.core.display.Latex object>"
      ]
     },
     "metadata": {},
     "output_type": "display_data"
    },
    {
     "name": "stdout",
     "output_type": "stream",
     "text": [
      "U:\n"
     ]
    },
    {
     "data": {
      "text/latex": [
       "$$\\left[\\begin{matrix}3 & 0 & 2\\\\0 & 1 & 1\\\\0 & 0 & - \\frac{10}{3}\\end{matrix}\\right]$$"
      ],
      "text/plain": [
       "<IPython.core.display.Latex object>"
      ]
     },
     "metadata": {},
     "output_type": "display_data"
    },
    {
     "data": {
      "text/latex": [
       "$$\\frac{-10}{-1^1}$$"
      ],
      "text/plain": [
       "<IPython.core.display.Latex object>"
      ]
     },
     "metadata": {},
     "output_type": "display_data"
    },
    {
     "data": {
      "text/latex": [
       "$$10$$"
      ],
      "text/plain": [
       "<IPython.core.display.Latex object>"
      ]
     },
     "metadata": {},
     "output_type": "display_data"
    }
   ],
   "source": [
    "A = np.array([[3, 0, 2.],\n",
    "              [2, 0, -2.],\n",
    "              [0, 1, 1.]])\n",
    "P, L, U, t = LU(A, output = True)\n",
    "LUdet(U, t)"
   ]
  },
  {
   "cell_type": "code",
   "execution_count": 36,
   "id": "e13042b8",
   "metadata": {},
   "outputs": [],
   "source": [
    "#your code here"
   ]
  },
  {
   "cell_type": "markdown",
   "id": "d04efcd5",
   "metadata": {},
   "source": [
    "# 7. INVERSE"
   ]
  },
  {
   "cell_type": "code",
   "execution_count": 37,
   "id": "36dedbde",
   "metadata": {},
   "outputs": [],
   "source": [
    "def inverse(A, output = False):\n",
    "    \"\"\"\n",
    "    Calculates the inverse of a matrix using row reduction\n",
    "    Parameters\n",
    "    ----------\n",
    "    A: array_like\n",
    "        Matrix in question\n",
    "    output: bool\n",
    "        if True, inverse() will actually return the inverse\n",
    "    Returns\n",
    "    -------\n",
    "    A_inverse: array_like\n",
    "        inverse of the matrix\n",
    "    \"\"\"\n",
    "    Y = A.shape\n",
    "    A_clone = preprocess(A)\n",
    "    if Y[0] != Y[1]:\n",
    "        raise ValueError('A is not square matrix therefore it has no inverse')\n",
    "    det = det_recursive(A_clone)\n",
    "    if abs(det) == 0:\n",
    "        raise ValueError('A has a determinant of 0 therefore has no inverse use a determinant function to find out how to find the determinant.')\n",
    "    AI = preprocess(np.concatenate((A_clone, np.eye(Y[0],Y[1], dtype = int).T), axis = 1))\n",
    "    display(Latex('$$' + latex(sp.Matrix(AI)) + '$$'))\n",
    "    IA_inverse = rowred(AI, rref = True, output = True)\n",
    "    A_inverse = IA_inverse[:,Y[0]:]\n",
    "    print('The inverse is:')\n",
    "    display(Latex('$$' + latex(sp.Matrix(A_inverse)) + '$$'))\n",
    "    if output:\n",
    "        return A_inverse"
   ]
  },
  {
   "cell_type": "markdown",
   "id": "ddb99c22",
   "metadata": {},
   "source": [
    "#### example:\n",
    "\n",
    "Calculate the inverse of\n",
    "    \n",
    "$$A=\\begin{bmatrix}\n",
    "3 & 0 & 2\\\\\n",
    "2 & 0 & -2 \\\\\n",
    "0 & 1 & 1\n",
    "\\end{bmatrix}$$"
   ]
  },
  {
   "cell_type": "code",
   "execution_count": 38,
   "id": "c1b9c9e2",
   "metadata": {
    "scrolled": true
   },
   "outputs": [
    {
     "data": {
      "text/latex": [
       "$$\\left[\\begin{matrix}3 & 0 & 2 & 1 & 0 & 0\\\\2 & 0 & -2 & 0 & 1 & 0\\\\0 & 1 & 1 & 0 & 0 & 1\\end{matrix}\\right]$$"
      ],
      "text/plain": [
       "<IPython.core.display.Latex object>"
      ]
     },
     "metadata": {},
     "output_type": "display_data"
    },
    {
     "name": "stdout",
     "output_type": "stream",
     "text": [
      "Subtract 2/3 times row 1 from row 2\n"
     ]
    },
    {
     "data": {
      "text/latex": [
       "$$\\left[\\begin{matrix}3 & 0 & 2 & 1 & 0 & 0\\\\0 & 0 & - \\frac{10}{3} & - \\frac{2}{3} & 1 & 0\\\\0 & 1 & 1 & 0 & 0 & 1\\end{matrix}\\right]$$"
      ],
      "text/plain": [
       "<IPython.core.display.Latex object>"
      ]
     },
     "metadata": {},
     "output_type": "display_data"
    },
    {
     "name": "stdout",
     "output_type": "stream",
     "text": [
      "Swapped row 2 with row 3\n"
     ]
    },
    {
     "data": {
      "text/latex": [
       "$$\\left[\\begin{matrix}3 & 0 & 2 & 1 & 0 & 0\\\\0 & 1 & 1 & 0 & 0 & 1\\\\0 & 0 & - \\frac{10}{3} & - \\frac{2}{3} & 1 & 0\\end{matrix}\\right]$$"
      ],
      "text/plain": [
       "<IPython.core.display.Latex object>"
      ]
     },
     "metadata": {},
     "output_type": "display_data"
    },
    {
     "name": "stdout",
     "output_type": "stream",
     "text": [
      "Divide row 3 by -10/3\n"
     ]
    },
    {
     "data": {
      "text/latex": [
       "$$\\left[\\begin{matrix}3 & 0 & 2 & 1 & 0 & 0\\\\0 & 1 & 1 & 0 & 0 & 1\\\\0 & 0 & 1 & \\frac{1}{5} & - \\frac{3}{10} & 0\\end{matrix}\\right]$$"
      ],
      "text/plain": [
       "<IPython.core.display.Latex object>"
      ]
     },
     "metadata": {},
     "output_type": "display_data"
    },
    {
     "name": "stdout",
     "output_type": "stream",
     "text": [
      "Subtract 1 times row 3 from row 2\n"
     ]
    },
    {
     "data": {
      "text/latex": [
       "$$\\left[\\begin{matrix}3 & 0 & 2 & 1 & 0 & 0\\\\0 & 1 & 0 & - \\frac{1}{5} & \\frac{3}{10} & 1\\\\0 & 0 & 1 & \\frac{1}{5} & - \\frac{3}{10} & 0\\end{matrix}\\right]$$"
      ],
      "text/plain": [
       "<IPython.core.display.Latex object>"
      ]
     },
     "metadata": {},
     "output_type": "display_data"
    },
    {
     "name": "stdout",
     "output_type": "stream",
     "text": [
      "Subtract 2 times row 3 from row 1\n"
     ]
    },
    {
     "data": {
      "text/latex": [
       "$$\\left[\\begin{matrix}3 & 0 & 0 & \\frac{3}{5} & \\frac{3}{5} & 0\\\\0 & 1 & 0 & - \\frac{1}{5} & \\frac{3}{10} & 1\\\\0 & 0 & 1 & \\frac{1}{5} & - \\frac{3}{10} & 0\\end{matrix}\\right]$$"
      ],
      "text/plain": [
       "<IPython.core.display.Latex object>"
      ]
     },
     "metadata": {},
     "output_type": "display_data"
    },
    {
     "name": "stdout",
     "output_type": "stream",
     "text": [
      "Divide row 2 by 1\n"
     ]
    },
    {
     "data": {
      "text/latex": [
       "$$\\left[\\begin{matrix}3 & 0 & 0 & \\frac{3}{5} & \\frac{3}{5} & 0\\\\0 & 1 & 0 & - \\frac{1}{5} & \\frac{3}{10} & 1\\\\0 & 0 & 1 & \\frac{1}{5} & - \\frac{3}{10} & 0\\end{matrix}\\right]$$"
      ],
      "text/plain": [
       "<IPython.core.display.Latex object>"
      ]
     },
     "metadata": {},
     "output_type": "display_data"
    },
    {
     "name": "stdout",
     "output_type": "stream",
     "text": [
      "Divide row 1 by 3\n"
     ]
    },
    {
     "data": {
      "text/latex": [
       "$$\\left[\\begin{matrix}1 & 0 & 0 & \\frac{1}{5} & \\frac{1}{5} & 0\\\\0 & 1 & 0 & - \\frac{1}{5} & \\frac{3}{10} & 1\\\\0 & 0 & 1 & \\frac{1}{5} & - \\frac{3}{10} & 0\\end{matrix}\\right]$$"
      ],
      "text/plain": [
       "<IPython.core.display.Latex object>"
      ]
     },
     "metadata": {},
     "output_type": "display_data"
    },
    {
     "name": "stdout",
     "output_type": "stream",
     "text": [
      "The inverse is:\n"
     ]
    },
    {
     "data": {
      "text/latex": [
       "$$\\left[\\begin{matrix}\\frac{1}{5} & \\frac{1}{5} & 0\\\\- \\frac{1}{5} & \\frac{3}{10} & 1\\\\\\frac{1}{5} & - \\frac{3}{10} & 0\\end{matrix}\\right]$$"
      ],
      "text/plain": [
       "<IPython.core.display.Latex object>"
      ]
     },
     "metadata": {},
     "output_type": "display_data"
    }
   ],
   "source": [
    "A = np.array([[3, 0, 2],\n",
    "              [2, 0, -2],\n",
    "              [0, 1, 1]])\n",
    "inverse(A)"
   ]
  },
  {
   "cell_type": "code",
   "execution_count": 39,
   "id": "2894d6ae",
   "metadata": {},
   "outputs": [],
   "source": [
    "#your code here"
   ]
  },
  {
   "cell_type": "markdown",
   "id": "ac37cb2c",
   "metadata": {},
   "source": [
    "# 8. AREA OF A PARALLELOGRAM"
   ]
  },
  {
   "cell_type": "code",
   "execution_count": 40,
   "id": "737433e5",
   "metadata": {},
   "outputs": [],
   "source": [
    "def parallelogram_area(a, b, output = False):\n",
    "    \"\"\"\n",
    "    Calculates the area of a parallelogram given 2 sides represented as vectors\n",
    "    Parameters\n",
    "    ----------\n",
    "    a: array_like\n",
    "        vector representation of a side with a shared starting point as b\n",
    "    b: array_like\n",
    "        vector representation of a side with a shared starting point as a\n",
    "    output: bool\n",
    "        if True, parallelogram_area() will actually return the area\n",
    "    Returns\n",
    "    -------\n",
    "    area: sympy.core.number\n",
    "        area of the parallelogram\n",
    "    \"\"\"\n",
    "    if a.shape != (3,) or b.shape != (3,):\n",
    "        raise ValueError('Takes in only 3d vectors, if 2d, add a third dimension with 0')\n",
    "    x = preprocess(a)\n",
    "    y = preprocess(b)\n",
    "    cross = np.cross(x, y)\n",
    "    n = cross[0] ** 2 + cross[1] ** 2 + cross[2] ** 2\n",
    "    display(Latex('$$' + latex(sp.Matrix(x)) + ' × ' + latex(sp.Matrix(y)) + '=' + latex(sp.Matrix(cross)) + '$$'))\n",
    "    display(sqrt(Add(Pow(cross[0], 2, evaluate = False), Pow(cross[1], 2, evaluate = False), Pow(cross[2], 2, evaluate = False), evaluate = False), evaluate = False))\n",
    "    if (n ** .5) % 1 == 0:\n",
    "        display(Latex('$$Area = ' + str(n ** .5) + '$$'))\n",
    "    else:\n",
    "        display(Latex('$$Area = \\sqrt{' + str(n) + '}$$'))\n",
    "    area = n**.5\n",
    "    if output:\n",
    "        return area"
   ]
  },
  {
   "cell_type": "markdown",
   "id": "76a10b8f",
   "metadata": {},
   "source": [
    "#### example:\n",
    "\n",
    "Lets solve for the area of a parallelogram with the points p1 = (1,2,3), p2 = (4,6,8) and p3 = (0,0,0) where p2 and p3 are connected to p1. We only need 3 points of the parallelogram, to solve. We must extract 2 vectors from these points,\n",
    "\n",
    "$$ a = p2 - p1 = \\begin{bmatrix}3\\\\ 4 \\\\ 5\\end{bmatrix}$$\n",
    "\n",
    "$$ b = p3 - p1 = \\begin{bmatrix}-1\\\\ -2 \\\\ -3\\end{bmatrix}$$"
   ]
  },
  {
   "cell_type": "code",
   "execution_count": 41,
   "id": "7cb8116a",
   "metadata": {},
   "outputs": [
    {
     "data": {
      "text/latex": [
       "$$\\left[\\begin{matrix}3\\\\4\\\\5\\end{matrix}\\right] × \\left[\\begin{matrix}-1\\\\-2\\\\-3\\end{matrix}\\right]=\\left[\\begin{matrix}-2\\\\4\\\\-2\\end{matrix}\\right]$$"
      ],
      "text/plain": [
       "<IPython.core.display.Latex object>"
      ]
     },
     "metadata": {},
     "output_type": "display_data"
    },
    {
     "data": {
      "text/latex": [
       "$\\displaystyle \\sqrt{\\left(-2\\right)^{2} + \\left(-2\\right)^{2} + 4^{2}}$"
      ],
      "text/plain": [
       "sqrt((-2)**2 + (-2)**2 + 4**2)"
      ]
     },
     "metadata": {},
     "output_type": "display_data"
    },
    {
     "data": {
      "text/latex": [
       "$$Area = \\sqrt{24}$$"
      ],
      "text/plain": [
       "<IPython.core.display.Latex object>"
      ]
     },
     "metadata": {},
     "output_type": "display_data"
    }
   ],
   "source": [
    "a = np.array([3., 4., 5.])\n",
    "b = np.array([-1., -2., -3.])\n",
    "parallelogram_area(a, b)"
   ]
  },
  {
   "cell_type": "code",
   "execution_count": 42,
   "id": "2bc214e8",
   "metadata": {},
   "outputs": [],
   "source": [
    "#your code here"
   ]
  },
  {
   "cell_type": "markdown",
   "id": "d1347805",
   "metadata": {},
   "source": [
    "# 9. VOLUME OF A PARALLELOPIPED"
   ]
  },
  {
   "cell_type": "code",
   "execution_count": 43,
   "id": "a37aca8b",
   "metadata": {},
   "outputs": [],
   "source": [
    "def parallelopiped_volume(a, b, c, output = False):\n",
    "    \"\"\"\n",
    "    Calculates the area of a parallelogram given 3 edges represented as vectors\n",
    "    Parameters\n",
    "    ----------\n",
    "    a: array_like\n",
    "        vector representation of an edge with a shared starting point as b and c\n",
    "    b: array_like\n",
    "        vector representation of an edge with a shared starting point as a and c\n",
    "    c: array_like\n",
    "        vector representation of an edge with a shared starting point as a and b\n",
    "    output: bool\n",
    "        if True, parallelopiped_volume() will actually return the volume\n",
    "    Returns\n",
    "    -------\n",
    "    volume: sympy.core.number\n",
    "        volume of the parallelopiped\n",
    "    \"\"\"\n",
    "    if a.shape != (3,) or b.shape != (3,) or c.shape != (3,):\n",
    "        raise ValueError('Takes in only 3d vectors, if 2d, add a third dimension with 0')\n",
    "    x = preprocess(a)\n",
    "    y = preprocess(b)\n",
    "    z = preprocess(c)\n",
    "    cross = np.cross(x, y)\n",
    "    display(Latex('$$' + latex(sp.Matrix(x)) + ' × ' + latex(sp.Matrix(y)) + \n",
    "                  '=' + latex(sp.Matrix(cross)) + '$$'))\n",
    "    volume =  cross @ z\n",
    "    display(Latex('$$' + latex(sp.Matrix(x)) + ' ⋅ ' + latex(sp.Matrix(z)) + \n",
    "                  '=' + str(volume) + '$$'))\n",
    "    display(Latex('$$Volume = ' + str(volume) + '$$'))\n",
    "    if output:\n",
    "        return volume"
   ]
  },
  {
   "cell_type": "markdown",
   "id": "9561c2d5",
   "metadata": {},
   "source": [
    "#### example:\n",
    "\n",
    "Solve for the area of a parallelopiped. Even though a parallelopiped has 8 points, we need only 4 points where 3 of the points are connected to one of the points. Lets say we have p1 = (1,2,3), p2 = (4,5,6), p3 = (0,0,0) and p4 = (7,9,8). p2, p3, p4 are all connected to p1. We derive the following vectors from these points.\n",
    "\n",
    "$$ a = p2 - p1 = \\begin{bmatrix}3\\\\ 4 \\\\ 5\\end{bmatrix}$$\n",
    "\n",
    "$$ b = p3 - p1 = \\begin{bmatrix}-1\\\\ -2 \\\\ -3\\end{bmatrix}$$\n",
    "\n",
    "$$ c = p4 - p1 = \\begin{bmatrix}6\\\\ 7 \\\\ 2\\end{bmatrix}$$"
   ]
  },
  {
   "cell_type": "code",
   "execution_count": 44,
   "id": "bb6a1c57",
   "metadata": {},
   "outputs": [
    {
     "data": {
      "text/latex": [
       "$$\\left[\\begin{matrix}3\\\\4\\\\5\\end{matrix}\\right] × \\left[\\begin{matrix}-1\\\\-2\\\\-3\\end{matrix}\\right]=\\left[\\begin{matrix}-2\\\\4\\\\-2\\end{matrix}\\right]$$"
      ],
      "text/plain": [
       "<IPython.core.display.Latex object>"
      ]
     },
     "metadata": {},
     "output_type": "display_data"
    },
    {
     "data": {
      "text/latex": [
       "$$\\left[\\begin{matrix}3\\\\4\\\\5\\end{matrix}\\right] ⋅ \\left[\\begin{matrix}6\\\\7\\\\2\\end{matrix}\\right]=12$$"
      ],
      "text/plain": [
       "<IPython.core.display.Latex object>"
      ]
     },
     "metadata": {},
     "output_type": "display_data"
    },
    {
     "data": {
      "text/latex": [
       "$$Volume = 12$$"
      ],
      "text/plain": [
       "<IPython.core.display.Latex object>"
      ]
     },
     "metadata": {},
     "output_type": "display_data"
    }
   ],
   "source": [
    "a = np.array([3, 4, 5])\n",
    "b = np.array([-1, -2, -3])\n",
    "c = np.array([6, 7, 2])\n",
    "parallelopiped_volume(a, b, c)"
   ]
  },
  {
   "cell_type": "code",
   "execution_count": 45,
   "id": "8eef401c",
   "metadata": {},
   "outputs": [],
   "source": [
    "#your code here"
   ]
  },
  {
   "cell_type": "markdown",
   "id": "f4e4b785",
   "metadata": {},
   "source": [
    "# 10. ORTHOGONALITY"
   ]
  },
  {
   "cell_type": "code",
   "execution_count": 46,
   "id": "0609b03c",
   "metadata": {},
   "outputs": [],
   "source": [
    "def is_orthogonal(a, b, output = False):\n",
    "    \"\"\"\n",
    "    finds whether 2 vectors are orthogonal\n",
    "    Parameters\n",
    "    ----------\n",
    "    a: array_like\n",
    "        first vector in question\n",
    "    b: array_like\n",
    "        second vector in quesiton\n",
    "    output: bool\n",
    "        if True, is_orthogonal() will actually return a value\n",
    "    Returns\n",
    "    -------\n",
    "    bool\n",
    "        Whether a and b are orthogonal to each other True means yes False means no\n",
    "    \n",
    "    \"\"\"\n",
    "    x = preprocess(a)\n",
    "    y = preprocess(b)\n",
    "    if x @ y == 0:\n",
    "        display(Latex('$$' + latex(sp.Matrix(x)) + ' ⋅ ' +\n",
    "                      latex(sp.Matrix(y)) + ' = 0$$'))\n",
    "        display(Latex('$$True$$'))\n",
    "        if output:\n",
    "            return True\n",
    "    else:\n",
    "        display(Latex('$$' + latex(sp.Matrix(x)) + ' ⋅ ' +\n",
    "                      latex(sp.Matrix(y)) + ' = ' + str(x @ y) + '$$'))\n",
    "        display(Latex('$$False$$'))\n",
    "        if output:\n",
    "            return False"
   ]
  },
  {
   "cell_type": "markdown",
   "id": "c1e1f716",
   "metadata": {},
   "source": [
    "#### example:\n",
    "\n",
    "Are vectors a and b orthogonal?\n",
    "\n",
    "$$a=\\begin{bmatrix} 1 \\\\ 2 \\\\ 3\\end{bmatrix}, b=\\begin{bmatrix} -3 \\\\ 0 \\\\ 1\\end{bmatrix}$$\n",
    "\n",
    "Are vectors c and d orthogonal?\n",
    "\n",
    "$$c=\\begin{bmatrix} 1 \\\\ 2 \\\\ 3\\end{bmatrix}, d=\\begin{bmatrix} 1 \\\\ 2 \\\\ 4\\end{bmatrix}$$"
   ]
  },
  {
   "cell_type": "code",
   "execution_count": 47,
   "id": "1d51e349",
   "metadata": {},
   "outputs": [
    {
     "data": {
      "text/latex": [
       "$$\\left[\\begin{matrix}1\\\\2\\\\3\\end{matrix}\\right] ⋅ \\left[\\begin{matrix}-3\\\\0\\\\1\\end{matrix}\\right] = 0$$"
      ],
      "text/plain": [
       "<IPython.core.display.Latex object>"
      ]
     },
     "metadata": {},
     "output_type": "display_data"
    },
    {
     "data": {
      "text/latex": [
       "$$True$$"
      ],
      "text/plain": [
       "<IPython.core.display.Latex object>"
      ]
     },
     "metadata": {},
     "output_type": "display_data"
    },
    {
     "data": {
      "text/latex": [
       "$$\\left[\\begin{matrix}1\\\\2\\\\3\\end{matrix}\\right] ⋅ \\left[\\begin{matrix}1\\\\2\\\\4\\end{matrix}\\right] = 17$$"
      ],
      "text/plain": [
       "<IPython.core.display.Latex object>"
      ]
     },
     "metadata": {},
     "output_type": "display_data"
    },
    {
     "data": {
      "text/latex": [
       "$$False$$"
      ],
      "text/plain": [
       "<IPython.core.display.Latex object>"
      ]
     },
     "metadata": {},
     "output_type": "display_data"
    }
   ],
   "source": [
    "a = np.array([1,2,3])\n",
    "b = np.array([-3,0,1])\n",
    "is_orthogonal(a,b)\n",
    "c = np.array([1,2,3])\n",
    "d = np.array([1,2,4])\n",
    "is_orthogonal(c,d)"
   ]
  },
  {
   "cell_type": "markdown",
   "id": "8f20544e",
   "metadata": {},
   "source": [
    "# 11. LEAST SQUARES"
   ]
  },
  {
   "cell_type": "code",
   "execution_count": 48,
   "id": "b5f25abb",
   "metadata": {},
   "outputs": [],
   "source": [
    "def least_squares(A, b, output = False):\n",
    "    \"\"\"\n",
    "    finds the least squares regression\n",
    "    Parameters\n",
    "    ----------\n",
    "    A: array_like\n",
    "        matrix transformation of datapoints see example\n",
    "    b: array_like\n",
    "        vector transformation of datapoints see example\n",
    "    output: bool\n",
    "        if True, least_squares() will actually return the coefficients\n",
    "    Returns\n",
    "    -------\n",
    "    coefficients: array_like\n",
    "        an array with the coefficients to the least squares regression\n",
    "    \"\"\"\n",
    "    A_clone = preprocess(A)\n",
    "    v = preprocess(b)\n",
    "    ATA = A_clone.T @ A_clone\n",
    "    print('A^T * A')\n",
    "    display(Latex('$$' + latex(sp.Matrix(ATA)) + '$$'))\n",
    "    ATb = A_clone.T @ v\n",
    "    print('A^T * b')\n",
    "    display(Latex('$$' + latex(sp.Matrix(ATb)) + '$$'))\n",
    "    Y = ATA.shape\n",
    "    augmented = np.append(ATA.T, ATb).reshape(Y[0]+1,Y[1]).T\n",
    "    print('Fuse A^T * A with A^T * b')\n",
    "    display(Latex('$$' + latex(sp.Matrix(augmented)) + '$$'))\n",
    "    coefficients = rowred(augmented, rref = True, output = True)[:,-1]\n",
    "    statement = '$$'\n",
    "    for i in range(len(coefficients)):\n",
    "        statement += 'v_' + str(i+1) + ' = ' + latex(coefficients[i]) + ', '\n",
    "    display(Latex(statement[:-2] + '$$'))\n",
    "    if output:\n",
    "        return coefficients"
   ]
  },
  {
   "cell_type": "markdown",
   "id": "aa050b59",
   "metadata": {},
   "source": [
    "#### example:\n",
    "We will do 2 least squares regressions, 1 for the common case of linear regression and another for a more complex case of an elipse to demonstrate how least squares can be generalized for all sorts of equations.\n",
    "\n",
    "Find the linear regression for the following datapoints\n",
    "\n",
    "| x | y |\n",
    "|---|---|\n",
    "| 2 | 4 |\n",
    "| 3 | 6 |\n",
    "| 8 | 8 |\n",
    "| 9 | 8 |\n",
    "|14 |17 |\n",
    "\n",
    "equation for a line is \n",
    "$$y = v_1 ⋅ x + v_2$$\n",
    "\n",
    "$$v_1 ⋅ 2 + v_2 = 4$$\n",
    "$$v_1 ⋅ 3 + v_2 = 6$$\n",
    "$$v_1 ⋅ 8 + v_2 = 8$$\n",
    "$$v_1 ⋅ 9 + v_2 = 8$$\n",
    "$$v_1 ⋅ 14 + v_2 = 17$$\n",
    "\n",
    "so we must solve for v\n",
    "\n",
    "$$A=\\begin{bmatrix}\n",
    "2 & 1\\\\\n",
    "3 & 1\\\\\n",
    "8 & 1\\\\\n",
    "9 & 1\\\\\n",
    "14 & 1\n",
    "\\end{bmatrix} v=\\begin{bmatrix}\n",
    "v_1 \\\\\n",
    "v_2\n",
    "\\end{bmatrix}b=\\begin{bmatrix}\n",
    "4\\\\\n",
    "6\\\\\n",
    "8\\\\\n",
    "8\\\\\n",
    "17\n",
    "\\end{bmatrix}$$\n",
    "\n",
    "where $$Av ≈ b$$"
   ]
  },
  {
   "cell_type": "code",
   "execution_count": 49,
   "id": "128ca687",
   "metadata": {},
   "outputs": [
    {
     "name": "stdout",
     "output_type": "stream",
     "text": [
      "A^T * A\n"
     ]
    },
    {
     "data": {
      "text/latex": [
       "$$\\left[\\begin{matrix}354 & 36\\\\36 & 5\\end{matrix}\\right]$$"
      ],
      "text/plain": [
       "<IPython.core.display.Latex object>"
      ]
     },
     "metadata": {},
     "output_type": "display_data"
    },
    {
     "name": "stdout",
     "output_type": "stream",
     "text": [
      "A^T * b\n"
     ]
    },
    {
     "data": {
      "text/latex": [
       "$$\\left[\\begin{matrix}400\\\\43\\end{matrix}\\right]$$"
      ],
      "text/plain": [
       "<IPython.core.display.Latex object>"
      ]
     },
     "metadata": {},
     "output_type": "display_data"
    },
    {
     "name": "stdout",
     "output_type": "stream",
     "text": [
      "Fuse A^T * A with A^T * b\n"
     ]
    },
    {
     "data": {
      "text/latex": [
       "$$\\left[\\begin{matrix}354 & 36 & 400\\\\36 & 5 & 43\\end{matrix}\\right]$$"
      ],
      "text/plain": [
       "<IPython.core.display.Latex object>"
      ]
     },
     "metadata": {},
     "output_type": "display_data"
    },
    {
     "name": "stdout",
     "output_type": "stream",
     "text": [
      "Subtract 6/59 times row 1 from row 2\n"
     ]
    },
    {
     "data": {
      "text/latex": [
       "$$\\left[\\begin{matrix}354 & 36 & 400\\\\0 & \\frac{79}{59} & \\frac{137}{59}\\end{matrix}\\right]$$"
      ],
      "text/plain": [
       "<IPython.core.display.Latex object>"
      ]
     },
     "metadata": {},
     "output_type": "display_data"
    },
    {
     "name": "stdout",
     "output_type": "stream",
     "text": [
      "Divide row 2 by 79/59\n"
     ]
    },
    {
     "data": {
      "text/latex": [
       "$$\\left[\\begin{matrix}354 & 36 & 400\\\\0 & 1 & \\frac{137}{79}\\end{matrix}\\right]$$"
      ],
      "text/plain": [
       "<IPython.core.display.Latex object>"
      ]
     },
     "metadata": {},
     "output_type": "display_data"
    },
    {
     "name": "stdout",
     "output_type": "stream",
     "text": [
      "Subtract 36 times row 2 from row 1\n"
     ]
    },
    {
     "data": {
      "text/latex": [
       "$$\\left[\\begin{matrix}354 & 0 & \\frac{26668}{79}\\\\0 & 1 & \\frac{137}{79}\\end{matrix}\\right]$$"
      ],
      "text/plain": [
       "<IPython.core.display.Latex object>"
      ]
     },
     "metadata": {},
     "output_type": "display_data"
    },
    {
     "name": "stdout",
     "output_type": "stream",
     "text": [
      "Divide row 1 by 354\n"
     ]
    },
    {
     "data": {
      "text/latex": [
       "$$\\left[\\begin{matrix}1 & 0 & \\frac{226}{237}\\\\0 & 1 & \\frac{137}{79}\\end{matrix}\\right]$$"
      ],
      "text/plain": [
       "<IPython.core.display.Latex object>"
      ]
     },
     "metadata": {},
     "output_type": "display_data"
    },
    {
     "data": {
      "text/latex": [
       "$$v_1 = \\frac{226}{237}, v_2 = \\frac{137}{79}$$"
      ],
      "text/plain": [
       "<IPython.core.display.Latex object>"
      ]
     },
     "metadata": {},
     "output_type": "display_data"
    }
   ],
   "source": [
    "A = np.array([[2, 1],\n",
    "              [3, 1],\n",
    "              [8, 1], \n",
    "              [9, 1], \n",
    "              [14, 1]])\n",
    "b = np.array([[4],\n",
    "              [6],\n",
    "              [8],\n",
    "              [8],\n",
    "              [17]])\n",
    "least_squares(A, b)"
   ]
  },
  {
   "cell_type": "markdown",
   "id": "8452118d",
   "metadata": {},
   "source": [
    "$$y = \\frac{226}{237} ⋅ x + \\frac{137}{79}$$"
   ]
  },
  {
   "cell_type": "code",
   "execution_count": 50,
   "id": "483c864b",
   "metadata": {},
   "outputs": [
    {
     "data": {
      "text/plain": [
       "[<matplotlib.lines.Line2D at 0x1a67df0b7f0>]"
      ]
     },
     "execution_count": 50,
     "metadata": {},
     "output_type": "execute_result"
    },
    {
     "data": {
      "image/png": "[encoded data removed]",
      "text/plain": [
       "<Figure size 432x288 with 1 Axes>"
      ]
     },
     "metadata": {
      "needs_background": "light"
     },
     "output_type": "display_data"
    }
   ],
   "source": [
    "x = [2, 3, 8, 9, 14]\n",
    "y = [4, 6, 8, 8, 17]\n",
    "plt.scatter(x,y)\n",
    "x = [0, 20]\n",
    "y = [0, 226*20/237 + 137 / 79]\n",
    "plt.plot(x, y, color = 'red')"
   ]
  },
  {
   "cell_type": "markdown",
   "id": "2f29bc84",
   "metadata": {},
   "source": [
    "find the ecliptical regression for the following data points\n",
    "\n",
    "| x | y |\n",
    "|---|---|\n",
    "| 0 | 2 |\n",
    "| 2 | 1 |\n",
    "| 1 |-1 |\n",
    "|-1 |-2 |\n",
    "|-1 |-1 |\n",
    "\n",
    "equation for an elipse is\n",
    "\n",
    "$$x^2 + v_1 y^2 + v_2 x y + v_3 x + v_4 y + v_5 = 0$$\n",
    "\n",
    "$$(0)^2 + v_1(2)^2 + v_2(0)(2) + v_3(0) + v_4(2) + v_5 = 0$$\n",
    "$$(2)^2 + v_1(1)^2 + v_2(2)(1) + v_3(2) + v_4(1) + v_5 = 0$$\n",
    "$$(1)^2 + v_1(−1)^2 + v_2(1)(−1) + v_3(1) + v_4(−1) + v_5 = 0$$\n",
    "$$(−1)^2 + v_1(−2)^2 + v_2(−1)(−2) + v_3(−1) + v_4(−2) + v_5 = 0$$\n",
    "$$(−3)^2 + v_1(1)^2 + v_2(−3)(1) + v_3(−3) + v_4(1) + v_5 = 0$$\n",
    "$$(−1)^2 + v_1(−1)^2 + v_2(−1)(−1) + v_3(−1) + v_4(−1) + v_5 = 0$$\n",
    "\n",
    "so we must solve for v\n",
    "\n",
    "$$A=\\begin{bmatrix}\n",
    "4 & 0 & 0 & 2 & 1\\\\\n",
    "1 & 2 & 2 & 1 & 1\\\\\n",
    "1 & -1 & 1 & -1 & 1\\\\\n",
    "4 & 2 & -1 & -2 & 1\\\\\n",
    "1 & -3 & -3 & 1 & 1\\\\\n",
    "1 & 1 & -1 & -1 & 1\\\\\n",
    "\\end{bmatrix} v=\\begin{bmatrix}\n",
    "v_1 \\\\\n",
    "v_2 \\\\\n",
    "v_3 \\\\\n",
    "v_4 \\\\\n",
    "v_5\n",
    "\\end{bmatrix}b=\\begin{bmatrix}\n",
    "0\\\\\n",
    "-4\\\\\n",
    "-1\\\\\n",
    "-1\\\\\n",
    "9\\\\\n",
    "-1\n",
    "\\end{bmatrix}$$\n",
    "\n",
    "where $$Av ≈ b$$"
   ]
  },
  {
   "cell_type": "code",
   "execution_count": 51,
   "id": "26a77d4c",
   "metadata": {},
   "outputs": [
    {
     "name": "stdout",
     "output_type": "stream",
     "text": [
      "A^T * A\n"
     ]
    },
    {
     "data": {
      "text/latex": [
       "$$\\left[\\begin{matrix}36 & 7 & -5 & 0 & 12\\\\7 & 19 & 9 & -5 & 1\\\\-5 & 9 & 16 & 1 & -2\\\\0 & -5 & 1 & 12 & 0\\\\12 & 1 & -2 & 0 & 6\\end{matrix}\\right]$$"
      ],
      "text/plain": [
       "<IPython.core.display.Latex object>"
      ]
     },
     "metadata": {},
     "output_type": "display_data"
    },
    {
     "name": "stdout",
     "output_type": "stream",
     "text": [
      "A^T * b\n"
     ]
    },
    {
     "data": {
      "text/latex": [
       "$$\\left[\\begin{matrix}-19\\\\17\\\\20\\\\-9\\\\-16\\end{matrix}\\right]$$"
      ],
      "text/plain": [
       "<IPython.core.display.Latex object>"
      ]
     },
     "metadata": {},
     "output_type": "display_data"
    },
    {
     "name": "stdout",
     "output_type": "stream",
     "text": [
      "Fuse A^T * A with A^T * b\n"
     ]
    },
    {
     "data": {
      "text/latex": [
       "$$\\left[\\begin{matrix}36 & 7 & -5 & 0 & 12 & -19\\\\7 & 19 & 9 & -5 & 1 & 17\\\\-5 & 9 & 16 & 1 & -2 & 20\\\\0 & -5 & 1 & 12 & 0 & -9\\\\12 & 1 & -2 & 0 & 6 & -16\\end{matrix}\\right]$$"
      ],
      "text/plain": [
       "<IPython.core.display.Latex object>"
      ]
     },
     "metadata": {},
     "output_type": "display_data"
    },
    {
     "name": "stdout",
     "output_type": "stream",
     "text": [
      "Subtract 7/36 times row 1 from row 2\n"
     ]
    },
    {
     "data": {
      "text/latex": [
       "$$\\left[\\begin{matrix}36 & 7 & -5 & 0 & 12 & -19\\\\0 & \\frac{635}{36} & \\frac{359}{36} & -5 & - \\frac{4}{3} & \\frac{745}{36}\\\\-5 & 9 & 16 & 1 & -2 & 20\\\\0 & -5 & 1 & 12 & 0 & -9\\\\12 & 1 & -2 & 0 & 6 & -16\\end{matrix}\\right]$$"
      ],
      "text/plain": [
       "<IPython.core.display.Latex object>"
      ]
     },
     "metadata": {},
     "output_type": "display_data"
    },
    {
     "name": "stdout",
     "output_type": "stream",
     "text": [
      "Subtract -5/36 times row 1 from row 3\n"
     ]
    },
    {
     "data": {
      "text/latex": [
       "$$\\left[\\begin{matrix}36 & 7 & -5 & 0 & 12 & -19\\\\0 & \\frac{635}{36} & \\frac{359}{36} & -5 & - \\frac{4}{3} & \\frac{745}{36}\\\\0 & \\frac{359}{36} & \\frac{551}{36} & 1 & - \\frac{1}{3} & \\frac{625}{36}\\\\0 & -5 & 1 & 12 & 0 & -9\\\\12 & 1 & -2 & 0 & 6 & -16\\end{matrix}\\right]$$"
      ],
      "text/plain": [
       "<IPython.core.display.Latex object>"
      ]
     },
     "metadata": {},
     "output_type": "display_data"
    },
    {
     "name": "stdout",
     "output_type": "stream",
     "text": [
      "Subtract 1/3 times row 1 from row 5\n"
     ]
    },
    {
     "data": {
      "text/latex": [
       "$$\\left[\\begin{matrix}36 & 7 & -5 & 0 & 12 & -19\\\\0 & \\frac{635}{36} & \\frac{359}{36} & -5 & - \\frac{4}{3} & \\frac{745}{36}\\\\0 & \\frac{359}{36} & \\frac{551}{36} & 1 & - \\frac{1}{3} & \\frac{625}{36}\\\\0 & -5 & 1 & 12 & 0 & -9\\\\0 & - \\frac{4}{3} & - \\frac{1}{3} & 0 & 2 & - \\frac{29}{3}\\end{matrix}\\right]$$"
      ],
      "text/plain": [
       "<IPython.core.display.Latex object>"
      ]
     },
     "metadata": {},
     "output_type": "display_data"
    },
    {
     "name": "stdout",
     "output_type": "stream",
     "text": [
      "Subtract 359/635 times row 2 from row 3\n"
     ]
    },
    {
     "data": {
      "text/latex": [
       "$$\\left[\\begin{matrix}36 & 7 & -5 & 0 & 12 & -19\\\\0 & \\frac{635}{36} & \\frac{359}{36} & -5 & - \\frac{4}{3} & \\frac{745}{36}\\\\0 & 0 & \\frac{6139}{635} & \\frac{486}{127} & \\frac{267}{635} & \\frac{719}{127}\\\\0 & -5 & 1 & 12 & 0 & -9\\\\0 & - \\frac{4}{3} & - \\frac{1}{3} & 0 & 2 & - \\frac{29}{3}\\end{matrix}\\right]$$"
      ],
      "text/plain": [
       "<IPython.core.display.Latex object>"
      ]
     },
     "metadata": {},
     "output_type": "display_data"
    },
    {
     "name": "stdout",
     "output_type": "stream",
     "text": [
      "Subtract -36/127 times row 2 from row 4\n"
     ]
    },
    {
     "data": {
      "text/latex": [
       "$$\\left[\\begin{matrix}36 & 7 & -5 & 0 & 12 & -19\\\\0 & \\frac{635}{36} & \\frac{359}{36} & -5 & - \\frac{4}{3} & \\frac{745}{36}\\\\0 & 0 & \\frac{6139}{635} & \\frac{486}{127} & \\frac{267}{635} & \\frac{719}{127}\\\\0 & 0 & \\frac{486}{127} & \\frac{1344}{127} & - \\frac{48}{127} & - \\frac{398}{127}\\\\0 & - \\frac{4}{3} & - \\frac{1}{3} & 0 & 2 & - \\frac{29}{3}\\end{matrix}\\right]$$"
      ],
      "text/plain": [
       "<IPython.core.display.Latex object>"
      ]
     },
     "metadata": {},
     "output_type": "display_data"
    },
    {
     "name": "stdout",
     "output_type": "stream",
     "text": [
      "Subtract -48/635 times row 2 from row 5\n"
     ]
    },
    {
     "data": {
      "text/latex": [
       "$$\\left[\\begin{matrix}36 & 7 & -5 & 0 & 12 & -19\\\\0 & \\frac{635}{36} & \\frac{359}{36} & -5 & - \\frac{4}{3} & \\frac{745}{36}\\\\0 & 0 & \\frac{6139}{635} & \\frac{486}{127} & \\frac{267}{635} & \\frac{719}{127}\\\\0 & 0 & \\frac{486}{127} & \\frac{1344}{127} & - \\frac{48}{127} & - \\frac{398}{127}\\\\0 & 0 & \\frac{267}{635} & - \\frac{48}{127} & \\frac{1206}{635} & - \\frac{1029}{127}\\end{matrix}\\right]$$"
      ],
      "text/plain": [
       "<IPython.core.display.Latex object>"
      ]
     },
     "metadata": {},
     "output_type": "display_data"
    },
    {
     "name": "stdout",
     "output_type": "stream",
     "text": [
      "Subtract 2430/6139 times row 3 from row 4\n"
     ]
    },
    {
     "data": {
      "text/latex": [
       "$$\\left[\\begin{matrix}36 & 7 & -5 & 0 & 12 & -19\\\\0 & \\frac{635}{36} & \\frac{359}{36} & -5 & - \\frac{4}{3} & \\frac{745}{36}\\\\0 & 0 & \\frac{6139}{635} & \\frac{486}{127} & \\frac{267}{635} & \\frac{719}{127}\\\\0 & 0 & 0 & \\frac{55668}{6139} & - \\frac{3342}{6139} & - \\frac{32996}{6139}\\\\0 & 0 & \\frac{267}{635} & - \\frac{48}{127} & \\frac{1206}{635} & - \\frac{1029}{127}\\end{matrix}\\right]$$"
      ],
      "text/plain": [
       "<IPython.core.display.Latex object>"
      ]
     },
     "metadata": {},
     "output_type": "display_data"
    },
    {
     "name": "stdout",
     "output_type": "stream",
     "text": [
      "Subtract 267/6139 times row 3 from row 5\n"
     ]
    },
    {
     "data": {
      "text/latex": [
       "$$\\left[\\begin{matrix}36 & 7 & -5 & 0 & 12 & -19\\\\0 & \\frac{635}{36} & \\frac{359}{36} & -5 & - \\frac{4}{3} & \\frac{745}{36}\\\\0 & 0 & \\frac{6139}{635} & \\frac{486}{127} & \\frac{267}{635} & \\frac{719}{127}\\\\0 & 0 & 0 & \\frac{55668}{6139} & - \\frac{3342}{6139} & - \\frac{32996}{6139}\\\\0 & 0 & 0 & - \\frac{3342}{6139} & \\frac{11547}{6139} & - \\frac{51252}{6139}\\end{matrix}\\right]$$"
      ],
      "text/plain": [
       "<IPython.core.display.Latex object>"
      ]
     },
     "metadata": {},
     "output_type": "display_data"
    },
    {
     "name": "stdout",
     "output_type": "stream",
     "text": [
      "Subtract -557/9278 times row 4 from row 5\n"
     ]
    },
    {
     "data": {
      "text/latex": [
       "$$\\left[\\begin{matrix}36 & 7 & -5 & 0 & 12 & -19\\\\0 & \\frac{635}{36} & \\frac{359}{36} & -5 & - \\frac{4}{3} & \\frac{745}{36}\\\\0 & 0 & \\frac{6139}{635} & \\frac{486}{127} & \\frac{267}{635} & \\frac{719}{127}\\\\0 & 0 & 0 & \\frac{55668}{6139} & - \\frac{3342}{6139} & - \\frac{32996}{6139}\\\\0 & 0 & 0 & 0 & \\frac{8574}{4639} & - \\frac{40226}{4639}\\end{matrix}\\right]$$"
      ],
      "text/plain": [
       "<IPython.core.display.Latex object>"
      ]
     },
     "metadata": {},
     "output_type": "display_data"
    },
    {
     "name": "stdout",
     "output_type": "stream",
     "text": [
      "Divide row 5 by 8574/4639\n"
     ]
    },
    {
     "data": {
      "text/latex": [
       "$$\\left[\\begin{matrix}36 & 7 & -5 & 0 & 12 & -19\\\\0 & \\frac{635}{36} & \\frac{359}{36} & -5 & - \\frac{4}{3} & \\frac{745}{36}\\\\0 & 0 & \\frac{6139}{635} & \\frac{486}{127} & \\frac{267}{635} & \\frac{719}{127}\\\\0 & 0 & 0 & \\frac{55668}{6139} & - \\frac{3342}{6139} & - \\frac{32996}{6139}\\\\0 & 0 & 0 & 0 & 1 & - \\frac{20113}{4287}\\end{matrix}\\right]$$"
      ],
      "text/plain": [
       "<IPython.core.display.Latex object>"
      ]
     },
     "metadata": {},
     "output_type": "display_data"
    },
    {
     "name": "stdout",
     "output_type": "stream",
     "text": [
      "Subtract -3342/6139 times row 5 from row 4\n"
     ]
    },
    {
     "data": {
      "text/latex": [
       "$$\\left[\\begin{matrix}36 & 7 & -5 & 0 & 12 & -19\\\\0 & \\frac{635}{36} & \\frac{359}{36} & -5 & - \\frac{4}{3} & \\frac{745}{36}\\\\0 & 0 & \\frac{6139}{635} & \\frac{486}{127} & \\frac{267}{635} & \\frac{719}{127}\\\\0 & 0 & 0 & \\frac{55668}{6139} & 0 & - \\frac{9936738}{1253233}\\\\0 & 0 & 0 & 0 & 1 & - \\frac{20113}{4287}\\end{matrix}\\right]$$"
      ],
      "text/plain": [
       "<IPython.core.display.Latex object>"
      ]
     },
     "metadata": {},
     "output_type": "display_data"
    },
    {
     "name": "stdout",
     "output_type": "stream",
     "text": [
      "Subtract 267/635 times row 5 from row 3\n"
     ]
    },
    {
     "data": {
      "text/latex": [
       "$$\\left[\\begin{matrix}36 & 7 & -5 & 0 & 12 & -19\\\\0 & \\frac{635}{36} & \\frac{359}{36} & -5 & - \\frac{4}{3} & \\frac{745}{36}\\\\0 & 0 & \\frac{6139}{635} & \\frac{486}{127} & 0 & \\frac{6927312}{907415}\\\\0 & 0 & 0 & \\frac{55668}{6139} & 0 & - \\frac{9936738}{1253233}\\\\0 & 0 & 0 & 0 & 1 & - \\frac{20113}{4287}\\end{matrix}\\right]$$"
      ],
      "text/plain": [
       "<IPython.core.display.Latex object>"
      ]
     },
     "metadata": {},
     "output_type": "display_data"
    },
    {
     "name": "stdout",
     "output_type": "stream",
     "text": [
      "Subtract -4/3 times row 5 from row 2\n"
     ]
    },
    {
     "data": {
      "text/latex": [
       "$$\\left[\\begin{matrix}36 & 7 & -5 & 0 & 12 & -19\\\\0 & \\frac{635}{36} & \\frac{359}{36} & -5 & 0 & \\frac{82533}{5716}\\\\0 & 0 & \\frac{6139}{635} & \\frac{486}{127} & 0 & \\frac{6927312}{907415}\\\\0 & 0 & 0 & \\frac{55668}{6139} & 0 & - \\frac{9936738}{1253233}\\\\0 & 0 & 0 & 0 & 1 & - \\frac{20113}{4287}\\end{matrix}\\right]$$"
      ],
      "text/plain": [
       "<IPython.core.display.Latex object>"
      ]
     },
     "metadata": {},
     "output_type": "display_data"
    },
    {
     "name": "stdout",
     "output_type": "stream",
     "text": [
      "Subtract 12 times row 5 from row 1\n"
     ]
    },
    {
     "data": {
      "text/latex": [
       "$$\\left[\\begin{matrix}36 & 7 & -5 & 0 & 0 & \\frac{53301}{1429}\\\\0 & \\frac{635}{36} & \\frac{359}{36} & -5 & 0 & \\frac{82533}{5716}\\\\0 & 0 & \\frac{6139}{635} & \\frac{486}{127} & 0 & \\frac{6927312}{907415}\\\\0 & 0 & 0 & \\frac{55668}{6139} & 0 & - \\frac{9936738}{1253233}\\\\0 & 0 & 0 & 0 & 1 & - \\frac{20113}{4287}\\end{matrix}\\right]$$"
      ],
      "text/plain": [
       "<IPython.core.display.Latex object>"
      ]
     },
     "metadata": {},
     "output_type": "display_data"
    },
    {
     "name": "stdout",
     "output_type": "stream",
     "text": [
      "Divide row 4 by 55668/6139\n"
     ]
    },
    {
     "data": {
      "text/latex": [
       "$$\\left[\\begin{matrix}36 & 7 & -5 & 0 & 0 & \\frac{53301}{1429}\\\\0 & \\frac{635}{36} & \\frac{359}{36} & -5 & 0 & \\frac{82533}{5716}\\\\0 & 0 & \\frac{6139}{635} & \\frac{486}{127} & 0 & \\frac{6927312}{907415}\\\\0 & 0 & 0 & 1 & 0 & - \\frac{2499}{2858}\\\\0 & 0 & 0 & 0 & 1 & - \\frac{20113}{4287}\\end{matrix}\\right]$$"
      ],
      "text/plain": [
       "<IPython.core.display.Latex object>"
      ]
     },
     "metadata": {},
     "output_type": "display_data"
    },
    {
     "name": "stdout",
     "output_type": "stream",
     "text": [
      "Subtract 486/127 times row 4 from row 3\n"
     ]
    },
    {
     "data": {
      "text/latex": [
       "$$\\left[\\begin{matrix}36 & 7 & -5 & 0 & 0 & \\frac{53301}{1429}\\\\0 & \\frac{635}{36} & \\frac{359}{36} & -5 & 0 & \\frac{82533}{5716}\\\\0 & 0 & \\frac{6139}{635} & 0 & 0 & \\frac{9963597}{907415}\\\\0 & 0 & 0 & 1 & 0 & - \\frac{2499}{2858}\\\\0 & 0 & 0 & 0 & 1 & - \\frac{20113}{4287}\\end{matrix}\\right]$$"
      ],
      "text/plain": [
       "<IPython.core.display.Latex object>"
      ]
     },
     "metadata": {},
     "output_type": "display_data"
    },
    {
     "name": "stdout",
     "output_type": "stream",
     "text": [
      "Subtract -5 times row 4 from row 2\n"
     ]
    },
    {
     "data": {
      "text/latex": [
       "$$\\left[\\begin{matrix}36 & 7 & -5 & 0 & 0 & \\frac{53301}{1429}\\\\0 & \\frac{635}{36} & \\frac{359}{36} & 0 & 0 & \\frac{57543}{5716}\\\\0 & 0 & \\frac{6139}{635} & 0 & 0 & \\frac{9963597}{907415}\\\\0 & 0 & 0 & 1 & 0 & - \\frac{2499}{2858}\\\\0 & 0 & 0 & 0 & 1 & - \\frac{20113}{4287}\\end{matrix}\\right]$$"
      ],
      "text/plain": [
       "<IPython.core.display.Latex object>"
      ]
     },
     "metadata": {},
     "output_type": "display_data"
    },
    {
     "name": "stdout",
     "output_type": "stream",
     "text": [
      "Divide row 3 by 6139/635\n"
     ]
    },
    {
     "data": {
      "text/latex": [
       "$$\\left[\\begin{matrix}36 & 7 & -5 & 0 & 0 & \\frac{53301}{1429}\\\\0 & \\frac{635}{36} & \\frac{359}{36} & 0 & 0 & \\frac{57543}{5716}\\\\0 & 0 & 1 & 0 & 0 & \\frac{1623}{1429}\\\\0 & 0 & 0 & 1 & 0 & - \\frac{2499}{2858}\\\\0 & 0 & 0 & 0 & 1 & - \\frac{20113}{4287}\\end{matrix}\\right]$$"
      ],
      "text/plain": [
       "<IPython.core.display.Latex object>"
      ]
     },
     "metadata": {},
     "output_type": "display_data"
    },
    {
     "name": "stdout",
     "output_type": "stream",
     "text": [
      "Subtract 359/36 times row 3 from row 2\n"
     ]
    },
    {
     "data": {
      "text/latex": [
       "$$\\left[\\begin{matrix}36 & 7 & -5 & 0 & 0 & \\frac{53301}{1429}\\\\0 & \\frac{635}{36} & 0 & 0 & 0 & - \\frac{10795}{8574}\\\\0 & 0 & 1 & 0 & 0 & \\frac{1623}{1429}\\\\0 & 0 & 0 & 1 & 0 & - \\frac{2499}{2858}\\\\0 & 0 & 0 & 0 & 1 & - \\frac{20113}{4287}\\end{matrix}\\right]$$"
      ],
      "text/plain": [
       "<IPython.core.display.Latex object>"
      ]
     },
     "metadata": {},
     "output_type": "display_data"
    },
    {
     "name": "stdout",
     "output_type": "stream",
     "text": [
      "Subtract -5 times row 3 from row 1\n"
     ]
    },
    {
     "data": {
      "text/latex": [
       "$$\\left[\\begin{matrix}36 & 7 & 0 & 0 & 0 & \\frac{61416}{1429}\\\\0 & \\frac{635}{36} & 0 & 0 & 0 & - \\frac{10795}{8574}\\\\0 & 0 & 1 & 0 & 0 & \\frac{1623}{1429}\\\\0 & 0 & 0 & 1 & 0 & - \\frac{2499}{2858}\\\\0 & 0 & 0 & 0 & 1 & - \\frac{20113}{4287}\\end{matrix}\\right]$$"
      ],
      "text/plain": [
       "<IPython.core.display.Latex object>"
      ]
     },
     "metadata": {},
     "output_type": "display_data"
    },
    {
     "name": "stdout",
     "output_type": "stream",
     "text": [
      "Divide row 2 by 635/36\n"
     ]
    },
    {
     "data": {
      "text/latex": [
       "$$\\left[\\begin{matrix}36 & 7 & 0 & 0 & 0 & \\frac{61416}{1429}\\\\0 & 1 & 0 & 0 & 0 & - \\frac{102}{1429}\\\\0 & 0 & 1 & 0 & 0 & \\frac{1623}{1429}\\\\0 & 0 & 0 & 1 & 0 & - \\frac{2499}{2858}\\\\0 & 0 & 0 & 0 & 1 & - \\frac{20113}{4287}\\end{matrix}\\right]$$"
      ],
      "text/plain": [
       "<IPython.core.display.Latex object>"
      ]
     },
     "metadata": {},
     "output_type": "display_data"
    },
    {
     "name": "stdout",
     "output_type": "stream",
     "text": [
      "Subtract 7 times row 2 from row 1\n"
     ]
    },
    {
     "data": {
      "text/latex": [
       "$$\\left[\\begin{matrix}36 & 0 & 0 & 0 & 0 & \\frac{62130}{1429}\\\\0 & 1 & 0 & 0 & 0 & - \\frac{102}{1429}\\\\0 & 0 & 1 & 0 & 0 & \\frac{1623}{1429}\\\\0 & 0 & 0 & 1 & 0 & - \\frac{2499}{2858}\\\\0 & 0 & 0 & 0 & 1 & - \\frac{20113}{4287}\\end{matrix}\\right]$$"
      ],
      "text/plain": [
       "<IPython.core.display.Latex object>"
      ]
     },
     "metadata": {},
     "output_type": "display_data"
    },
    {
     "name": "stdout",
     "output_type": "stream",
     "text": [
      "Divide row 1 by 36\n"
     ]
    },
    {
     "data": {
      "text/latex": [
       "$$\\left[\\begin{matrix}1 & 0 & 0 & 0 & 0 & \\frac{10355}{8574}\\\\0 & 1 & 0 & 0 & 0 & - \\frac{102}{1429}\\\\0 & 0 & 1 & 0 & 0 & \\frac{1623}{1429}\\\\0 & 0 & 0 & 1 & 0 & - \\frac{2499}{2858}\\\\0 & 0 & 0 & 0 & 1 & - \\frac{20113}{4287}\\end{matrix}\\right]$$"
      ],
      "text/plain": [
       "<IPython.core.display.Latex object>"
      ]
     },
     "metadata": {},
     "output_type": "display_data"
    },
    {
     "data": {
      "text/latex": [
       "$$v_1 = \\frac{10355}{8574}, v_2 = - \\frac{102}{1429}, v_3 = \\frac{1623}{1429}, v_4 = - \\frac{2499}{2858}, v_5 = - \\frac{20113}{4287}$$"
      ],
      "text/plain": [
       "<IPython.core.display.Latex object>"
      ]
     },
     "metadata": {},
     "output_type": "display_data"
    }
   ],
   "source": [
    "A = np.array([[4, 0, 0, 2, 1],\n",
    "              [1, 2, 2, 1, 1],\n",
    "              [1, -1, 1, -1, 1],\n",
    "              [4, 2, -1, -2, 1],\n",
    "              [1, -3, -3, 1, 1],\n",
    "              [1, 1, -1, -1, 1]])\n",
    "b = np.array([0, -4, -1, -1, -9, -1])\n",
    "least_squares(A, b)"
   ]
  },
  {
   "cell_type": "markdown",
   "id": "2c119e2b",
   "metadata": {},
   "source": [
    "$$x^2 + \\frac{10355}{8574} y^2 + \\frac{-102}{1429} x y + \\frac{1623}{1429} x + \\frac{-2499}{2858} y + \\frac{-20113}{4287} = 0$$\n",
    "if we multiply everything by 8574 we get\n",
    "$$8574 x^2 + 10355 y^2 - 612 x y + 9738 x - 7497 y - 40226 = 0$$"
   ]
  },
  {
   "cell_type": "code",
   "execution_count": 52,
   "id": "369a2b3a",
   "metadata": {},
   "outputs": [
    {
     "data": {
      "text/plain": [
       "[51*y/1429 - sqrt(-88690134*y**2 + 61299450*y + 368604885)/8574 - 1623/2858,\n",
       " 51*y/1429 + sqrt(-88690134*y**2 + 61299450*y + 368604885)/8574 - 1623/2858]"
      ]
     },
     "execution_count": 52,
     "metadata": {},
     "output_type": "execute_result"
    }
   ],
   "source": [
    "x, y = symbols('x y')\n",
    "solve(8574 * x ** 2 + 10355 * y ** 2 - 612 * x * y + 9738 * x -7497 * y - 40226, x)"
   ]
  },
  {
   "cell_type": "code",
   "execution_count": 53,
   "id": "22487fe3",
   "metadata": {},
   "outputs": [
    {
     "data": {
      "text/plain": [
       "<matplotlib.collections.PathCollection at 0x1a67e309790>"
      ]
     },
     "execution_count": 53,
     "metadata": {},
     "output_type": "execute_result"
    },
    {
     "data": {
      "image/png": "[encoded data removed]",
      "text/plain": [
       "<Figure size 432x288 with 1 Axes>"
      ]
     },
     "metadata": {
      "needs_background": "light"
     },
     "output_type": "display_data"
    }
   ],
   "source": [
    "x_vals = []\n",
    "y_vals = []\n",
    "for y in range(-300, 300):\n",
    "    y_guess = y / 100\n",
    "    x_guess = 51 * y_guess / 1429 - sqrt(-88690134 * y_guess ** 2 + 61299450 * y_guess + 368604885) / 8574 - 1623 / 2858\n",
    "    if re(x_guess) == x_guess:\n",
    "        x_vals += [x_guess]\n",
    "        y_vals += [y_guess]\n",
    "for y in range(300, -300, -1):\n",
    "    y_guess = y / 100\n",
    "    x_guess = 51 * y_guess / 1429 + sqrt(-88690134 * y_guess ** 2 + 61299450 * y_guess + 368604885) / 8574 - 1623 / 2858\n",
    "    if re(x_guess) == x_guess:\n",
    "        x_vals += [x_guess]\n",
    "        y_vals += [y_guess]\n",
    "plt.plot(x_vals, y_vals, color = 'red')\n",
    "x_values = [0,2,1,-1,-3,-1]\n",
    "y_values = [2,1,-1,-2,1,-1]\n",
    "plt.scatter(x_values, y_values)"
   ]
  },
  {
   "cell_type": "code",
   "execution_count": 54,
   "id": "b6c667bd",
   "metadata": {},
   "outputs": [],
   "source": [
    "#your code here"
   ]
  },
  {
   "cell_type": "markdown",
   "id": "914ef061",
   "metadata": {},
   "source": [
    "# 12. TRACE"
   ]
  },
  {
   "cell_type": "code",
   "execution_count": 55,
   "id": "4461f00c",
   "metadata": {},
   "outputs": [],
   "source": [
    "def trace(A, output = False):\n",
    "    \"\"\"\n",
    "    finds the trace of a matrix\n",
    "    Parameters\n",
    "    ----------\n",
    "    A: array_like\n",
    "        Matrix in quesiton\n",
    "    output: bool\n",
    "        if True, trace() will actually return the trace\n",
    "    Returns\n",
    "    -------\n",
    "    trace: sympy.core.number\n",
    "        the trace of the matrix\n",
    "    \"\"\"\n",
    "    Y = A.shape\n",
    "    if Y[0] != Y[1]:\n",
    "        raise ValueError('A is not square matrix therefore it has no trace')\n",
    "    work = ''\n",
    "    R = preprocess(A)\n",
    "    trace = 0\n",
    "    for i in range(Y[0]):\n",
    "        trace += R[i][i]\n",
    "        work += str(R[i][i]) + ' + '\n",
    "    display(Latex('$$trace(A) = ' + work[:-3] + '=' + str(trace) + '$$'))\n",
    "    if output:\n",
    "        return trace"
   ]
  },
  {
   "cell_type": "markdown",
   "id": "d05285b6",
   "metadata": {},
   "source": [
    "#### example:\n",
    "\n",
    "find the trace of the matrix\n",
    "$$A=\\begin{bmatrix}\n",
    "1 & 2 & 3\\\\\n",
    "4 & 5 & 6 \\\\\n",
    "7 & 8 & 9\n",
    "\\end{bmatrix}$$\n",
    "\n"
   ]
  },
  {
   "cell_type": "code",
   "execution_count": 56,
   "id": "42675a8c",
   "metadata": {},
   "outputs": [
    {
     "data": {
      "text/latex": [
       "$$trace(A) = 1 + 5 + 9=15$$"
      ],
      "text/plain": [
       "<IPython.core.display.Latex object>"
      ]
     },
     "metadata": {},
     "output_type": "display_data"
    }
   ],
   "source": [
    "A = np.array([[1, 2, 3],\n",
    "              [4, 5, 6],\n",
    "              [7, 8, 9]])\n",
    "trace(A)"
   ]
  },
  {
   "cell_type": "code",
   "execution_count": 57,
   "id": "26a26426",
   "metadata": {},
   "outputs": [],
   "source": [
    "#your code here"
   ]
  },
  {
   "cell_type": "markdown",
   "id": "8b82ebae",
   "metadata": {},
   "source": [
    "# 13. QR DECOMPOSITION"
   ]
  },
  {
   "cell_type": "code",
   "execution_count": 58,
   "id": "3aae12c6",
   "metadata": {},
   "outputs": [],
   "source": [
    "def qr(A, output = False):\n",
    "    \"\"\"\n",
    "    finds the qr decomposition of a matrix\n",
    "    Parameters\n",
    "    ----------\n",
    "    A: array_like\n",
    "        Matrix in question\n",
    "    output: bool\n",
    "        if True, qr() will actually return the Q and R matrices\n",
    "    Returns\n",
    "    -------\n",
    "    Q: array_like\n",
    "        Q matrix\n",
    "    R: array_like\n",
    "        R matrix\n",
    "    \"\"\"\n",
    "    Y = A.shape\n",
    "    A_clone = preprocess(A)\n",
    "    Q = np.empty(Y, dtype = sp.core.numbers.Rational)\n",
    "    print('Construct Q')\n",
    "    for i in range(Y[1]):\n",
    "        Q[:,i] = A_clone[:,i]\n",
    "        display(Latex('$$' + latex(sp.Matrix(Q)) + '$$'))\n",
    "        for j in range(i):\n",
    "            c = A_clone[:,i] @ Q[:,j] / (Q[:,j] @ Q[:,j])\n",
    "            Q[:,i] -= c * Q[:,j]\n",
    "            print('Subtract ' + str(c) + ' times column ', str(j + 1), ' from column ', str(i + 1))\n",
    "            display(Latex('$$' + latex(sp.Matrix(Q)) + '$$'))\n",
    "    display(Latex('$$' + latex(sp.Matrix(Q)) + '$$'))\n",
    "    roots = np.zeros(Y[1], dtype = sp.core.numbers.Rational)\n",
    "    for i in range(Y[1]):\n",
    "        for j in range(Y[0]):\n",
    "            roots[i] += Q[j][i] ** 2\n",
    "    for i in range(Y[1]):\n",
    "        Q[:,i] /= sqrt(roots[i])\n",
    "    print('Normalize to get Q =')\n",
    "    display(Latex('$$' + latex(sp.Matrix(Q)) + '$$'))\n",
    "    print('Compute Q^T*A to get R =')\n",
    "    R = Q.T @ A_clone\n",
    "    display(Latex('$$' + latex(sp.Matrix(R)) + '$$'))\n",
    "    if output:\n",
    "        return Q, R"
   ]
  },
  {
   "cell_type": "markdown",
   "id": "0b9cd2dc",
   "metadata": {},
   "source": [
    "#### example:\n",
    "Calculate the QR decomposition for the matrix \n",
    "$$A=\\begin{bmatrix}\n",
    "1 & 2 & 3\\\\\n",
    "-1 & 1 & 1 \\\\\n",
    "1 & 1 & 1 \\\\\n",
    "1 & 1 & 1\n",
    "\\end{bmatrix}$$"
   ]
  },
  {
   "cell_type": "code",
   "execution_count": 59,
   "id": "a9bfb7cc",
   "metadata": {
    "scrolled": true
   },
   "outputs": [
    {
     "name": "stdout",
     "output_type": "stream",
     "text": [
      "Construct Q\n"
     ]
    },
    {
     "data": {
      "text/latex": [
       "$$\\left[\\begin{matrix}1 & \\text{None} & \\text{None}\\\\-1 & \\text{None} & \\text{None}\\\\1 & \\text{None} & \\text{None}\\\\1 & \\text{None} & \\text{None}\\end{matrix}\\right]$$"
      ],
      "text/plain": [
       "<IPython.core.display.Latex object>"
      ]
     },
     "metadata": {},
     "output_type": "display_data"
    },
    {
     "data": {
      "text/latex": [
       "$$\\left[\\begin{matrix}1 & 2 & \\text{None}\\\\-1 & 1 & \\text{None}\\\\1 & 1 & \\text{None}\\\\1 & 1 & \\text{None}\\end{matrix}\\right]$$"
      ],
      "text/plain": [
       "<IPython.core.display.Latex object>"
      ]
     },
     "metadata": {},
     "output_type": "display_data"
    },
    {
     "name": "stdout",
     "output_type": "stream",
     "text": [
      "Subtract 3/4 times column  1  from column  2\n"
     ]
    },
    {
     "data": {
      "text/latex": [
       "$$\\left[\\begin{matrix}1 & \\frac{5}{4} & \\text{None}\\\\-1 & \\frac{7}{4} & \\text{None}\\\\1 & \\frac{1}{4} & \\text{None}\\\\1 & \\frac{1}{4} & \\text{None}\\end{matrix}\\right]$$"
      ],
      "text/plain": [
       "<IPython.core.display.Latex object>"
      ]
     },
     "metadata": {},
     "output_type": "display_data"
    },
    {
     "data": {
      "text/latex": [
       "$$\\left[\\begin{matrix}1 & \\frac{5}{4} & 3\\\\-1 & \\frac{7}{4} & 1\\\\1 & \\frac{1}{4} & 1\\\\1 & \\frac{1}{4} & 1\\end{matrix}\\right]$$"
      ],
      "text/plain": [
       "<IPython.core.display.Latex object>"
      ]
     },
     "metadata": {},
     "output_type": "display_data"
    },
    {
     "name": "stdout",
     "output_type": "stream",
     "text": [
      "Subtract 1 times column  1  from column  3\n"
     ]
    },
    {
     "data": {
      "text/latex": [
       "$$\\left[\\begin{matrix}1 & \\frac{5}{4} & 2\\\\-1 & \\frac{7}{4} & 2\\\\1 & \\frac{1}{4} & 0\\\\1 & \\frac{1}{4} & 0\\end{matrix}\\right]$$"
      ],
      "text/plain": [
       "<IPython.core.display.Latex object>"
      ]
     },
     "metadata": {},
     "output_type": "display_data"
    },
    {
     "name": "stdout",
     "output_type": "stream",
     "text": [
      "Subtract 24/19 times column  2  from column  3\n"
     ]
    },
    {
     "data": {
      "text/latex": [
       "$$\\left[\\begin{matrix}1 & \\frac{5}{4} & \\frac{8}{19}\\\\-1 & \\frac{7}{4} & - \\frac{4}{19}\\\\1 & \\frac{1}{4} & - \\frac{6}{19}\\\\1 & \\frac{1}{4} & - \\frac{6}{19}\\end{matrix}\\right]$$"
      ],
      "text/plain": [
       "<IPython.core.display.Latex object>"
      ]
     },
     "metadata": {},
     "output_type": "display_data"
    },
    {
     "data": {
      "text/latex": [
       "$$\\left[\\begin{matrix}1 & \\frac{5}{4} & \\frac{8}{19}\\\\-1 & \\frac{7}{4} & - \\frac{4}{19}\\\\1 & \\frac{1}{4} & - \\frac{6}{19}\\\\1 & \\frac{1}{4} & - \\frac{6}{19}\\end{matrix}\\right]$$"
      ],
      "text/plain": [
       "<IPython.core.display.Latex object>"
      ]
     },
     "metadata": {},
     "output_type": "display_data"
    },
    {
     "name": "stdout",
     "output_type": "stream",
     "text": [
      "Normalize to get Q =\n"
     ]
    },
    {
     "data": {
      "text/latex": [
       "$$\\left[\\begin{matrix}\\frac{1}{2} & \\frac{5 \\sqrt{19}}{38} & \\frac{2 \\sqrt{38}}{19}\\\\- \\frac{1}{2} & \\frac{7 \\sqrt{19}}{38} & - \\frac{\\sqrt{38}}{19}\\\\\\frac{1}{2} & \\frac{\\sqrt{19}}{38} & - \\frac{3 \\sqrt{38}}{38}\\\\\\frac{1}{2} & \\frac{\\sqrt{19}}{38} & - \\frac{3 \\sqrt{38}}{38}\\end{matrix}\\right]$$"
      ],
      "text/plain": [
       "<IPython.core.display.Latex object>"
      ]
     },
     "metadata": {},
     "output_type": "display_data"
    },
    {
     "name": "stdout",
     "output_type": "stream",
     "text": [
      "Compute Q^T*A to get R =\n"
     ]
    },
    {
     "data": {
      "text/latex": [
       "$$\\left[\\begin{matrix}2 & \\frac{3}{2} & 2\\\\0 & \\frac{\\sqrt{19}}{2} & \\frac{12 \\sqrt{19}}{19}\\\\0 & 0 & \\frac{2 \\sqrt{38}}{19}\\end{matrix}\\right]$$"
      ],
      "text/plain": [
       "<IPython.core.display.Latex object>"
      ]
     },
     "metadata": {},
     "output_type": "display_data"
    }
   ],
   "source": [
    "A = np.array([[1, 2, 3],\n",
    "              [-1, 1, 1],\n",
    "              [1, 1, 1],\n",
    "              [1, 1, 1]])\n",
    "qr(A)"
   ]
  },
  {
   "cell_type": "code",
   "execution_count": 60,
   "id": "d454bd40",
   "metadata": {},
   "outputs": [],
   "source": [
    "#your code here"
   ]
  },
  {
   "cell_type": "markdown",
   "id": "256ebc46",
   "metadata": {},
   "source": [
    "# 14. EIGENVALUES AND EIGENVECTORS"
   ]
  },
  {
   "cell_type": "code",
   "execution_count": 61,
   "id": "cf11e87e",
   "metadata": {},
   "outputs": [],
   "source": [
    "def eigensolve(A, output = False):\n",
    "    \"\"\"\n",
    "    used for finding the eigenvectors solves for a span given \n",
    "    Parameters\n",
    "    ----------\n",
    "    A: array_like\n",
    "        row reduced form of a matrix denoting the span of an eigenvalue\n",
    "    output: bool\n",
    "        if True, eigensolve() will actually return the span\n",
    "    Returns\n",
    "    -------\n",
    "    span: array_like\n",
    "        the span of the eigenvalue\n",
    "    \"\"\"\n",
    "    Y = A.shape\n",
    "    A_clone = preprocess(A)\n",
    "    row_rank = rank(A_clone, output = True, statement = False)\n",
    "    if row_rank == Y[0]:\n",
    "        display(Latex('$$' + latex(sp.Matrix(A_clone[:,-1])) + '$$'))\n",
    "        return A_clone[:,-1]\n",
    "    span = np.empty((Y[0] - row_rank, Y[1] - 1), dtype = sp.core.numbers.Rational)\n",
    "    span_print = '$$ span('\n",
    "    for batch in range(Y[0] - row_rank):\n",
    "        solver = np.empty((Y[1],), dtype = sp.core.numbers.Rational)\n",
    "        for i in range(Y[1]):\n",
    "            solver[i] = Rational(0,1)\n",
    "        solver[-2 - batch] = Rational(1,1)\n",
    "        for i in range(Y[0] - 2 - batch, -1, -1):\n",
    "            solver[i] = A_clone[:,-1][i] - (solver @ A_clone[i])\n",
    "        span_print += latex(sp.Matrix(solver[:-1])) + ', '\n",
    "        span[batch] = solver[:-1]\n",
    "    display(Latex(span_print[:-2] + ')$$'))\n",
    "    if output:\n",
    "        return span\n",
    "    \n",
    "def eigenvalues(A, output = False):\n",
    "    \"\"\"\n",
    "    finds the eigenvalues of a matrix\n",
    "    Parameters\n",
    "    ----------\n",
    "    A: array_like\n",
    "        Matrix in question\n",
    "    output: bool\n",
    "        if True, eigenvalues() will actually return the eigenvalues\n",
    "    Returns\n",
    "    -------\n",
    "    factors: array_like\n",
    "        the eigenvalues of the matrix\n",
    "    \"\"\"\n",
    "    Y = A.shape\n",
    "    if Y[0] != Y[1]:\n",
    "        raise ValueError('A non-square matrix has no eigenvalues')\n",
    "    else:\n",
    "        R = preprocess(A)\n",
    "        eigenspace = np.empty(Y, dtype = fractions.Fraction)\n",
    "        λ = symbols('λ')\n",
    "        A_λI = R - λ * preprocess(np.eye(Y[0], Y[0]))\n",
    "        display(Latex('$$' + latex(sp.Matrix(A_λI)) + '$$'))\n",
    "        print('Solve for λ')\n",
    "        factors = solve(det_recursive(A_λI), λ)\n",
    "        for λ in factors:\n",
    "            display(Latex('$$λ = ' + str(λ) + '$$'))\n",
    "        n = 0\n",
    "    if output:\n",
    "        return factors\n",
    "        \n",
    "def eigenset(A, output = False):\n",
    "    \"\"\"\n",
    "    finds the eigenvalues and eigenvectors of a matrix\n",
    "    Parameters\n",
    "    ----------\n",
    "    A: array_like\n",
    "        Matrix in question\n",
    "    output: bool\n",
    "        if True, eigenset() will actually return the eigenvalues and eigenvectors\n",
    "    Returns\n",
    "    -------\n",
    "    eigenspace: array_like\n",
    "        the eigenvectors of the matrix\n",
    "    eigenvalues: array_like\n",
    "        the eigenvalues of the matrix\n",
    "    \"\"\"\n",
    "    Y = A.shape\n",
    "    if Y[0] != Y[1]:\n",
    "        raise ValueError('A non-square matrix has no eigenvalues')\n",
    "    else:\n",
    "        R = preprocess(A)\n",
    "        eigenspace = np.empty(Y, dtype = fractions.Fraction)\n",
    "        λ = symbols('λ')\n",
    "        A_λI = R - λ * preprocess(np.eye(Y[0], Y[0]))\n",
    "        display(Latex('$$' + latex(sp.Matrix(A_λI)) + '$$'))\n",
    "        print('Solve for λ')\n",
    "        factors = solve(det_recursive(A_λI), λ)\n",
    "        for λ in factors:\n",
    "            display(Latex('$$λ = ' + str(λ) + '$$'))\n",
    "        n = 0\n",
    "        eigenvalues = []\n",
    "        for λ in factors:\n",
    "            B = R - λ * preprocess(np.eye(Y[0], Y[1]))\n",
    "            print('B = ')\n",
    "            display(Latex('$$' + latex(sp.Matrix(B)) + '$$'))\n",
    "            print('Solve Bv = 0')\n",
    "            B = preprocess(np.concatenate((B, np.zeros((Y[0], 1), dtype = int)), axis = 1))\n",
    "            display(Latex('$$' + latex(sp.Matrix(B)) + '$$'))\n",
    "            B_red = rowred(B, rref = True, output = True)\n",
    "            print('For eigenvalue ' + str(λ) + ' we have eigenspace')\n",
    "            eigenvectors = eigensolve(B_red, output = True)\n",
    "            for vectors in eigenvectors:\n",
    "                eigenspace[n] = vectors\n",
    "                eigenvalues += [λ]\n",
    "                n += 1\n",
    "    if output:\n",
    "        return eigenspace, eigenvalues\n",
    "    \n"
   ]
  },
  {
   "cell_type": "markdown",
   "id": "e9742b89",
   "metadata": {},
   "source": [
    "#### example:\n",
    "Please note that computing eigenvalues using a computer is an extremely complex problem with many complex methods. Most likely your linear algebra class would never ask you to compute the eigenvalues for anything larger than a 3x3. eigenstuff() mirrors what a human would do but is far from the most efficient way to compute eigenvalues and eigenspaces."
   ]
  },
  {
   "cell_type": "code",
   "execution_count": 62,
   "id": "11ca401a",
   "metadata": {},
   "outputs": [
    {
     "data": {
      "text/latex": [
       "$$\\left[\\begin{matrix}- λ - 1 & 2 & 2\\\\2 & 2 - λ & -1\\\\2 & -1 & 2 - λ\\end{matrix}\\right]$$"
      ],
      "text/plain": [
       "<IPython.core.display.Latex object>"
      ]
     },
     "metadata": {},
     "output_type": "display_data"
    },
    {
     "name": "stdout",
     "output_type": "stream",
     "text": [
      "Solve for λ\n"
     ]
    },
    {
     "data": {
      "text/latex": [
       "$$λ = -3$$"
      ],
      "text/plain": [
       "<IPython.core.display.Latex object>"
      ]
     },
     "metadata": {},
     "output_type": "display_data"
    },
    {
     "data": {
      "text/latex": [
       "$$λ = 3$$"
      ],
      "text/plain": [
       "<IPython.core.display.Latex object>"
      ]
     },
     "metadata": {},
     "output_type": "display_data"
    },
    {
     "name": "stdout",
     "output_type": "stream",
     "text": [
      "B = \n"
     ]
    },
    {
     "data": {
      "text/latex": [
       "$$\\left[\\begin{matrix}2 & 2 & 2\\\\2 & 5 & -1\\\\2 & -1 & 5\\end{matrix}\\right]$$"
      ],
      "text/plain": [
       "<IPython.core.display.Latex object>"
      ]
     },
     "metadata": {},
     "output_type": "display_data"
    },
    {
     "name": "stdout",
     "output_type": "stream",
     "text": [
      "Solve Bv = 0\n"
     ]
    },
    {
     "data": {
      "text/latex": [
       "$$\\left[\\begin{matrix}2 & 2 & 2 & 0\\\\2 & 5 & -1 & 0\\\\2 & -1 & 5 & 0\\end{matrix}\\right]$$"
      ],
      "text/plain": [
       "<IPython.core.display.Latex object>"
      ]
     },
     "metadata": {},
     "output_type": "display_data"
    },
    {
     "name": "stdout",
     "output_type": "stream",
     "text": [
      "Subtract 1 times row 1 from row 2\n"
     ]
    },
    {
     "data": {
      "text/latex": [
       "$$\\left[\\begin{matrix}2 & 2 & 2 & 0\\\\0 & 3 & -3 & 0\\\\2 & -1 & 5 & 0\\end{matrix}\\right]$$"
      ],
      "text/plain": [
       "<IPython.core.display.Latex object>"
      ]
     },
     "metadata": {},
     "output_type": "display_data"
    },
    {
     "name": "stdout",
     "output_type": "stream",
     "text": [
      "Subtract 1 times row 1 from row 3\n"
     ]
    },
    {
     "data": {
      "text/latex": [
       "$$\\left[\\begin{matrix}2 & 2 & 2 & 0\\\\0 & 3 & -3 & 0\\\\0 & -3 & 3 & 0\\end{matrix}\\right]$$"
      ],
      "text/plain": [
       "<IPython.core.display.Latex object>"
      ]
     },
     "metadata": {},
     "output_type": "display_data"
    },
    {
     "name": "stdout",
     "output_type": "stream",
     "text": [
      "Subtract -1 times row 2 from row 3\n"
     ]
    },
    {
     "data": {
      "text/latex": [
       "$$\\left[\\begin{matrix}2 & 2 & 2 & 0\\\\0 & 3 & -3 & 0\\\\0 & 0 & 0 & 0\\end{matrix}\\right]$$"
      ],
      "text/plain": [
       "<IPython.core.display.Latex object>"
      ]
     },
     "metadata": {},
     "output_type": "display_data"
    },
    {
     "name": "stdout",
     "output_type": "stream",
     "text": [
      "Divide row 2 by 3\n"
     ]
    },
    {
     "data": {
      "text/latex": [
       "$$\\left[\\begin{matrix}2 & 2 & 2 & 0\\\\0 & 1 & -1 & 0\\\\0 & 0 & 0 & 0\\end{matrix}\\right]$$"
      ],
      "text/plain": [
       "<IPython.core.display.Latex object>"
      ]
     },
     "metadata": {},
     "output_type": "display_data"
    },
    {
     "name": "stdout",
     "output_type": "stream",
     "text": [
      "Subtract 2 times row 2 from row 1\n"
     ]
    },
    {
     "data": {
      "text/latex": [
       "$$\\left[\\begin{matrix}2 & 0 & 4 & 0\\\\0 & 1 & -1 & 0\\\\0 & 0 & 0 & 0\\end{matrix}\\right]$$"
      ],
      "text/plain": [
       "<IPython.core.display.Latex object>"
      ]
     },
     "metadata": {},
     "output_type": "display_data"
    },
    {
     "name": "stdout",
     "output_type": "stream",
     "text": [
      "Divide row 1 by 2\n"
     ]
    },
    {
     "data": {
      "text/latex": [
       "$$\\left[\\begin{matrix}1 & 0 & 2 & 0\\\\0 & 1 & -1 & 0\\\\0 & 0 & 0 & 0\\end{matrix}\\right]$$"
      ],
      "text/plain": [
       "<IPython.core.display.Latex object>"
      ]
     },
     "metadata": {},
     "output_type": "display_data"
    },
    {
     "name": "stdout",
     "output_type": "stream",
     "text": [
      "For eigenvalue -3 we have eigenspace\n"
     ]
    },
    {
     "data": {
      "text/latex": [
       "$$ span(\\left[\\begin{matrix}-2\\\\1\\\\1\\end{matrix}\\right])$$"
      ],
      "text/plain": [
       "<IPython.core.display.Latex object>"
      ]
     },
     "metadata": {},
     "output_type": "display_data"
    },
    {
     "name": "stdout",
     "output_type": "stream",
     "text": [
      "B = \n"
     ]
    },
    {
     "data": {
      "text/latex": [
       "$$\\left[\\begin{matrix}-4 & 2 & 2\\\\2 & -1 & -1\\\\2 & -1 & -1\\end{matrix}\\right]$$"
      ],
      "text/plain": [
       "<IPython.core.display.Latex object>"
      ]
     },
     "metadata": {},
     "output_type": "display_data"
    },
    {
     "name": "stdout",
     "output_type": "stream",
     "text": [
      "Solve Bv = 0\n"
     ]
    },
    {
     "data": {
      "text/latex": [
       "$$\\left[\\begin{matrix}-4 & 2 & 2 & 0\\\\2 & -1 & -1 & 0\\\\2 & -1 & -1 & 0\\end{matrix}\\right]$$"
      ],
      "text/plain": [
       "<IPython.core.display.Latex object>"
      ]
     },
     "metadata": {},
     "output_type": "display_data"
    },
    {
     "name": "stdout",
     "output_type": "stream",
     "text": [
      "Subtract -1/2 times row 1 from row 2\n"
     ]
    },
    {
     "data": {
      "text/latex": [
       "$$\\left[\\begin{matrix}-4 & 2 & 2 & 0\\\\0 & 0 & 0 & 0\\\\2 & -1 & -1 & 0\\end{matrix}\\right]$$"
      ],
      "text/plain": [
       "<IPython.core.display.Latex object>"
      ]
     },
     "metadata": {},
     "output_type": "display_data"
    },
    {
     "name": "stdout",
     "output_type": "stream",
     "text": [
      "Subtract -1/2 times row 1 from row 3\n"
     ]
    },
    {
     "data": {
      "text/latex": [
       "$$\\left[\\begin{matrix}-4 & 2 & 2 & 0\\\\0 & 0 & 0 & 0\\\\0 & 0 & 0 & 0\\end{matrix}\\right]$$"
      ],
      "text/plain": [
       "<IPython.core.display.Latex object>"
      ]
     },
     "metadata": {},
     "output_type": "display_data"
    },
    {
     "name": "stdout",
     "output_type": "stream",
     "text": [
      "Divide row 1 by -4\n"
     ]
    },
    {
     "data": {
      "text/latex": [
       "$$\\left[\\begin{matrix}1 & - \\frac{1}{2} & - \\frac{1}{2} & 0\\\\0 & 0 & 0 & 0\\\\0 & 0 & 0 & 0\\end{matrix}\\right]$$"
      ],
      "text/plain": [
       "<IPython.core.display.Latex object>"
      ]
     },
     "metadata": {},
     "output_type": "display_data"
    },
    {
     "name": "stdout",
     "output_type": "stream",
     "text": [
      "For eigenvalue 3 we have eigenspace\n"
     ]
    },
    {
     "data": {
      "text/latex": [
       "$$ span(\\left[\\begin{matrix}\\frac{1}{2}\\\\0\\\\1\\end{matrix}\\right], \\left[\\begin{matrix}\\frac{1}{2}\\\\1\\\\0\\end{matrix}\\right])$$"
      ],
      "text/plain": [
       "<IPython.core.display.Latex object>"
      ]
     },
     "metadata": {},
     "output_type": "display_data"
    }
   ],
   "source": [
    "A = np.array([[-1, 2, 2],\n",
    "              [2, 2, -1],\n",
    "              [2, -1, 2]])\n",
    "x = eigenset(A, output = True)"
   ]
  },
  {
   "cell_type": "markdown",
   "id": "df696b1d",
   "metadata": {},
   "source": [
    "# 15. DIAGONALIZATION"
   ]
  },
  {
   "cell_type": "code",
   "execution_count": 63,
   "id": "853242af",
   "metadata": {},
   "outputs": [],
   "source": [
    "def diagonalize(A, output = False):\n",
    "    \"\"\"\n",
    "    finds the diagonization of a matrix\n",
    "    Parameters\n",
    "    ----------\n",
    "    A: array_like\n",
    "        Matrix in question\n",
    "    output: bool\n",
    "        if True, diagonalize() will actually return the X ^ -1, A, X and D matrices \n",
    "    Returns\n",
    "    -------\n",
    "    X_inverse: array_like\n",
    "        inverse of X matrix for diagonalization\n",
    "    A: array_like\n",
    "        original input matrix\n",
    "    X: aray_like\n",
    "        X matrix for diagonalization\n",
    "    D: array_like\n",
    "        D matrix for diagonalization\n",
    "    \"\"\"\n",
    "    A_clone = preprocess(A)\n",
    "    X = eigenset(A_clone, output = True)[0].T\n",
    "    display(Latex('$$X^{-1}AX = D$$'))\n",
    "    display(Latex('$$X^{-1}: $$'))\n",
    "    X_inverse = preprocess(inverse(X, output = True))\n",
    "    display(Latex('$$D:$$'))\n",
    "    D = X_inverse @ A @ X\n",
    "    display(Latex('$$' + latex(sp.Matrix(X_inverse)) + ' ⋅ ' \n",
    "                  + latex(sp.Matrix(A_clone)) + ' ⋅ ' \n",
    "                  + latex(sp.Matrix(X)) + ' = '\n",
    "                  + latex(sp.Matrix(D)) + '$$'))\n",
    "    display(Latex('$$X^{-1}=' + latex(sp.Matrix(X_inverse)) + '$$'))\n",
    "    display(Latex('$$A=' + latex(sp.Matrix(A)) + '$$'))\n",
    "    display(Latex('$$X=' + latex(sp.Matrix(X)) + '$$'))\n",
    "    display(Latex('$$D=' + latex(sp.Matrix(D)) + '$$'))\n",
    "    if output:\n",
    "        return X_inverse, A, X, D"
   ]
  },
  {
   "cell_type": "code",
   "execution_count": 64,
   "id": "80b93d42",
   "metadata": {},
   "outputs": [
    {
     "data": {
      "text/latex": [
       "$$\\left[\\begin{matrix}- λ - 1 & 2 & 2\\\\2 & 2 - λ & -1\\\\2 & -1 & 2 - λ\\end{matrix}\\right]$$"
      ],
      "text/plain": [
       "<IPython.core.display.Latex object>"
      ]
     },
     "metadata": {},
     "output_type": "display_data"
    },
    {
     "name": "stdout",
     "output_type": "stream",
     "text": [
      "Solve for λ\n"
     ]
    },
    {
     "data": {
      "text/latex": [
       "$$λ = -3$$"
      ],
      "text/plain": [
       "<IPython.core.display.Latex object>"
      ]
     },
     "metadata": {},
     "output_type": "display_data"
    },
    {
     "data": {
      "text/latex": [
       "$$λ = 3$$"
      ],
      "text/plain": [
       "<IPython.core.display.Latex object>"
      ]
     },
     "metadata": {},
     "output_type": "display_data"
    },
    {
     "name": "stdout",
     "output_type": "stream",
     "text": [
      "B = \n"
     ]
    },
    {
     "data": {
      "text/latex": [
       "$$\\left[\\begin{matrix}2 & 2 & 2\\\\2 & 5 & -1\\\\2 & -1 & 5\\end{matrix}\\right]$$"
      ],
      "text/plain": [
       "<IPython.core.display.Latex object>"
      ]
     },
     "metadata": {},
     "output_type": "display_data"
    },
    {
     "name": "stdout",
     "output_type": "stream",
     "text": [
      "Solve Bv = 0\n"
     ]
    },
    {
     "data": {
      "text/latex": [
       "$$\\left[\\begin{matrix}2 & 2 & 2 & 0\\\\2 & 5 & -1 & 0\\\\2 & -1 & 5 & 0\\end{matrix}\\right]$$"
      ],
      "text/plain": [
       "<IPython.core.display.Latex object>"
      ]
     },
     "metadata": {},
     "output_type": "display_data"
    },
    {
     "name": "stdout",
     "output_type": "stream",
     "text": [
      "Subtract 1 times row 1 from row 2\n"
     ]
    },
    {
     "data": {
      "text/latex": [
       "$$\\left[\\begin{matrix}2 & 2 & 2 & 0\\\\0 & 3 & -3 & 0\\\\2 & -1 & 5 & 0\\end{matrix}\\right]$$"
      ],
      "text/plain": [
       "<IPython.core.display.Latex object>"
      ]
     },
     "metadata": {},
     "output_type": "display_data"
    },
    {
     "name": "stdout",
     "output_type": "stream",
     "text": [
      "Subtract 1 times row 1 from row 3\n"
     ]
    },
    {
     "data": {
      "text/latex": [
       "$$\\left[\\begin{matrix}2 & 2 & 2 & 0\\\\0 & 3 & -3 & 0\\\\0 & -3 & 3 & 0\\end{matrix}\\right]$$"
      ],
      "text/plain": [
       "<IPython.core.display.Latex object>"
      ]
     },
     "metadata": {},
     "output_type": "display_data"
    },
    {
     "name": "stdout",
     "output_type": "stream",
     "text": [
      "Subtract -1 times row 2 from row 3\n"
     ]
    },
    {
     "data": {
      "text/latex": [
       "$$\\left[\\begin{matrix}2 & 2 & 2 & 0\\\\0 & 3 & -3 & 0\\\\0 & 0 & 0 & 0\\end{matrix}\\right]$$"
      ],
      "text/plain": [
       "<IPython.core.display.Latex object>"
      ]
     },
     "metadata": {},
     "output_type": "display_data"
    },
    {
     "name": "stdout",
     "output_type": "stream",
     "text": [
      "Divide row 2 by 3\n"
     ]
    },
    {
     "data": {
      "text/latex": [
       "$$\\left[\\begin{matrix}2 & 2 & 2 & 0\\\\0 & 1 & -1 & 0\\\\0 & 0 & 0 & 0\\end{matrix}\\right]$$"
      ],
      "text/plain": [
       "<IPython.core.display.Latex object>"
      ]
     },
     "metadata": {},
     "output_type": "display_data"
    },
    {
     "name": "stdout",
     "output_type": "stream",
     "text": [
      "Subtract 2 times row 2 from row 1\n"
     ]
    },
    {
     "data": {
      "text/latex": [
       "$$\\left[\\begin{matrix}2 & 0 & 4 & 0\\\\0 & 1 & -1 & 0\\\\0 & 0 & 0 & 0\\end{matrix}\\right]$$"
      ],
      "text/plain": [
       "<IPython.core.display.Latex object>"
      ]
     },
     "metadata": {},
     "output_type": "display_data"
    },
    {
     "name": "stdout",
     "output_type": "stream",
     "text": [
      "Divide row 1 by 2\n"
     ]
    },
    {
     "data": {
      "text/latex": [
       "$$\\left[\\begin{matrix}1 & 0 & 2 & 0\\\\0 & 1 & -1 & 0\\\\0 & 0 & 0 & 0\\end{matrix}\\right]$$"
      ],
      "text/plain": [
       "<IPython.core.display.Latex object>"
      ]
     },
     "metadata": {},
     "output_type": "display_data"
    },
    {
     "name": "stdout",
     "output_type": "stream",
     "text": [
      "For eigenvalue -3 we have eigenspace\n"
     ]
    },
    {
     "data": {
      "text/latex": [
       "$$ span(\\left[\\begin{matrix}-2\\\\1\\\\1\\end{matrix}\\right])$$"
      ],
      "text/plain": [
       "<IPython.core.display.Latex object>"
      ]
     },
     "metadata": {},
     "output_type": "display_data"
    },
    {
     "name": "stdout",
     "output_type": "stream",
     "text": [
      "B = \n"
     ]
    },
    {
     "data": {
      "text/latex": [
       "$$\\left[\\begin{matrix}-4 & 2 & 2\\\\2 & -1 & -1\\\\2 & -1 & -1\\end{matrix}\\right]$$"
      ],
      "text/plain": [
       "<IPython.core.display.Latex object>"
      ]
     },
     "metadata": {},
     "output_type": "display_data"
    },
    {
     "name": "stdout",
     "output_type": "stream",
     "text": [
      "Solve Bv = 0\n"
     ]
    },
    {
     "data": {
      "text/latex": [
       "$$\\left[\\begin{matrix}-4 & 2 & 2 & 0\\\\2 & -1 & -1 & 0\\\\2 & -1 & -1 & 0\\end{matrix}\\right]$$"
      ],
      "text/plain": [
       "<IPython.core.display.Latex object>"
      ]
     },
     "metadata": {},
     "output_type": "display_data"
    },
    {
     "name": "stdout",
     "output_type": "stream",
     "text": [
      "Subtract -1/2 times row 1 from row 2\n"
     ]
    },
    {
     "data": {
      "text/latex": [
       "$$\\left[\\begin{matrix}-4 & 2 & 2 & 0\\\\0 & 0 & 0 & 0\\\\2 & -1 & -1 & 0\\end{matrix}\\right]$$"
      ],
      "text/plain": [
       "<IPython.core.display.Latex object>"
      ]
     },
     "metadata": {},
     "output_type": "display_data"
    },
    {
     "name": "stdout",
     "output_type": "stream",
     "text": [
      "Subtract -1/2 times row 1 from row 3\n"
     ]
    },
    {
     "data": {
      "text/latex": [
       "$$\\left[\\begin{matrix}-4 & 2 & 2 & 0\\\\0 & 0 & 0 & 0\\\\0 & 0 & 0 & 0\\end{matrix}\\right]$$"
      ],
      "text/plain": [
       "<IPython.core.display.Latex object>"
      ]
     },
     "metadata": {},
     "output_type": "display_data"
    },
    {
     "name": "stdout",
     "output_type": "stream",
     "text": [
      "Divide row 1 by -4\n"
     ]
    },
    {
     "data": {
      "text/latex": [
       "$$\\left[\\begin{matrix}1 & - \\frac{1}{2} & - \\frac{1}{2} & 0\\\\0 & 0 & 0 & 0\\\\0 & 0 & 0 & 0\\end{matrix}\\right]$$"
      ],
      "text/plain": [
       "<IPython.core.display.Latex object>"
      ]
     },
     "metadata": {},
     "output_type": "display_data"
    },
    {
     "name": "stdout",
     "output_type": "stream",
     "text": [
      "For eigenvalue 3 we have eigenspace\n"
     ]
    },
    {
     "data": {
      "text/latex": [
       "$$ span(\\left[\\begin{matrix}\\frac{1}{2}\\\\0\\\\1\\end{matrix}\\right], \\left[\\begin{matrix}\\frac{1}{2}\\\\1\\\\0\\end{matrix}\\right])$$"
      ],
      "text/plain": [
       "<IPython.core.display.Latex object>"
      ]
     },
     "metadata": {},
     "output_type": "display_data"
    },
    {
     "data": {
      "text/latex": [
       "$$X^{-1}AX = D$$"
      ],
      "text/plain": [
       "<IPython.core.display.Latex object>"
      ]
     },
     "metadata": {},
     "output_type": "display_data"
    },
    {
     "data": {
      "text/latex": [
       "$$X^{-1}: $$"
      ],
      "text/plain": [
       "<IPython.core.display.Latex object>"
      ]
     },
     "metadata": {},
     "output_type": "display_data"
    },
    {
     "data": {
      "text/latex": [
       "$$\\left[\\begin{matrix}-2 & \\frac{1}{2} & \\frac{1}{2} & 1 & 0 & 0\\\\1 & 0 & 1 & 0 & 1 & 0\\\\1 & 1 & 0 & 0 & 0 & 1\\end{matrix}\\right]$$"
      ],
      "text/plain": [
       "<IPython.core.display.Latex object>"
      ]
     },
     "metadata": {},
     "output_type": "display_data"
    },
    {
     "name": "stdout",
     "output_type": "stream",
     "text": [
      "Subtract -1/2 times row 1 from row 2\n"
     ]
    },
    {
     "data": {
      "text/latex": [
       "$$\\left[\\begin{matrix}-2 & \\frac{1}{2} & \\frac{1}{2} & 1 & 0 & 0\\\\0 & \\frac{1}{4} & \\frac{5}{4} & \\frac{1}{2} & 1 & 0\\\\1 & 1 & 0 & 0 & 0 & 1\\end{matrix}\\right]$$"
      ],
      "text/plain": [
       "<IPython.core.display.Latex object>"
      ]
     },
     "metadata": {},
     "output_type": "display_data"
    },
    {
     "name": "stdout",
     "output_type": "stream",
     "text": [
      "Subtract -1/2 times row 1 from row 3\n"
     ]
    },
    {
     "data": {
      "text/latex": [
       "$$\\left[\\begin{matrix}-2 & \\frac{1}{2} & \\frac{1}{2} & 1 & 0 & 0\\\\0 & \\frac{1}{4} & \\frac{5}{4} & \\frac{1}{2} & 1 & 0\\\\0 & \\frac{5}{4} & \\frac{1}{4} & \\frac{1}{2} & 0 & 1\\end{matrix}\\right]$$"
      ],
      "text/plain": [
       "<IPython.core.display.Latex object>"
      ]
     },
     "metadata": {},
     "output_type": "display_data"
    },
    {
     "name": "stdout",
     "output_type": "stream",
     "text": [
      "Subtract 5 times row 2 from row 3\n"
     ]
    },
    {
     "data": {
      "text/latex": [
       "$$\\left[\\begin{matrix}-2 & \\frac{1}{2} & \\frac{1}{2} & 1 & 0 & 0\\\\0 & \\frac{1}{4} & \\frac{5}{4} & \\frac{1}{2} & 1 & 0\\\\0 & 0 & -6 & -2 & -5 & 1\\end{matrix}\\right]$$"
      ],
      "text/plain": [
       "<IPython.core.display.Latex object>"
      ]
     },
     "metadata": {},
     "output_type": "display_data"
    },
    {
     "name": "stdout",
     "output_type": "stream",
     "text": [
      "Divide row 3 by -6\n"
     ]
    },
    {
     "data": {
      "text/latex": [
       "$$\\left[\\begin{matrix}-2 & \\frac{1}{2} & \\frac{1}{2} & 1 & 0 & 0\\\\0 & \\frac{1}{4} & \\frac{5}{4} & \\frac{1}{2} & 1 & 0\\\\0 & 0 & 1 & \\frac{1}{3} & \\frac{5}{6} & - \\frac{1}{6}\\end{matrix}\\right]$$"
      ],
      "text/plain": [
       "<IPython.core.display.Latex object>"
      ]
     },
     "metadata": {},
     "output_type": "display_data"
    },
    {
     "name": "stdout",
     "output_type": "stream",
     "text": [
      "Subtract 5/4 times row 3 from row 2\n"
     ]
    },
    {
     "data": {
      "text/latex": [
       "$$\\left[\\begin{matrix}-2 & \\frac{1}{2} & \\frac{1}{2} & 1 & 0 & 0\\\\0 & \\frac{1}{4} & 0 & \\frac{1}{12} & - \\frac{1}{24} & \\frac{5}{24}\\\\0 & 0 & 1 & \\frac{1}{3} & \\frac{5}{6} & - \\frac{1}{6}\\end{matrix}\\right]$$"
      ],
      "text/plain": [
       "<IPython.core.display.Latex object>"
      ]
     },
     "metadata": {},
     "output_type": "display_data"
    },
    {
     "name": "stdout",
     "output_type": "stream",
     "text": [
      "Subtract 1/2 times row 3 from row 1\n"
     ]
    },
    {
     "data": {
      "text/latex": [
       "$$\\left[\\begin{matrix}-2 & \\frac{1}{2} & 0 & \\frac{5}{6} & - \\frac{5}{12} & \\frac{1}{12}\\\\0 & \\frac{1}{4} & 0 & \\frac{1}{12} & - \\frac{1}{24} & \\frac{5}{24}\\\\0 & 0 & 1 & \\frac{1}{3} & \\frac{5}{6} & - \\frac{1}{6}\\end{matrix}\\right]$$"
      ],
      "text/plain": [
       "<IPython.core.display.Latex object>"
      ]
     },
     "metadata": {},
     "output_type": "display_data"
    },
    {
     "name": "stdout",
     "output_type": "stream",
     "text": [
      "Divide row 2 by 1/4\n"
     ]
    },
    {
     "data": {
      "text/latex": [
       "$$\\left[\\begin{matrix}-2 & \\frac{1}{2} & 0 & \\frac{5}{6} & - \\frac{5}{12} & \\frac{1}{12}\\\\0 & 1 & 0 & \\frac{1}{3} & - \\frac{1}{6} & \\frac{5}{6}\\\\0 & 0 & 1 & \\frac{1}{3} & \\frac{5}{6} & - \\frac{1}{6}\\end{matrix}\\right]$$"
      ],
      "text/plain": [
       "<IPython.core.display.Latex object>"
      ]
     },
     "metadata": {},
     "output_type": "display_data"
    },
    {
     "name": "stdout",
     "output_type": "stream",
     "text": [
      "Subtract 1/2 times row 2 from row 1\n"
     ]
    },
    {
     "data": {
      "text/latex": [
       "$$\\left[\\begin{matrix}-2 & 0 & 0 & \\frac{2}{3} & - \\frac{1}{3} & - \\frac{1}{3}\\\\0 & 1 & 0 & \\frac{1}{3} & - \\frac{1}{6} & \\frac{5}{6}\\\\0 & 0 & 1 & \\frac{1}{3} & \\frac{5}{6} & - \\frac{1}{6}\\end{matrix}\\right]$$"
      ],
      "text/plain": [
       "<IPython.core.display.Latex object>"
      ]
     },
     "metadata": {},
     "output_type": "display_data"
    },
    {
     "name": "stdout",
     "output_type": "stream",
     "text": [
      "Divide row 1 by -2\n"
     ]
    },
    {
     "data": {
      "text/latex": [
       "$$\\left[\\begin{matrix}1 & 0 & 0 & - \\frac{1}{3} & \\frac{1}{6} & \\frac{1}{6}\\\\0 & 1 & 0 & \\frac{1}{3} & - \\frac{1}{6} & \\frac{5}{6}\\\\0 & 0 & 1 & \\frac{1}{3} & \\frac{5}{6} & - \\frac{1}{6}\\end{matrix}\\right]$$"
      ],
      "text/plain": [
       "<IPython.core.display.Latex object>"
      ]
     },
     "metadata": {},
     "output_type": "display_data"
    },
    {
     "name": "stdout",
     "output_type": "stream",
     "text": [
      "The inverse is:\n"
     ]
    },
    {
     "data": {
      "text/latex": [
       "$$\\left[\\begin{matrix}- \\frac{1}{3} & \\frac{1}{6} & \\frac{1}{6}\\\\\\frac{1}{3} & - \\frac{1}{6} & \\frac{5}{6}\\\\\\frac{1}{3} & \\frac{5}{6} & - \\frac{1}{6}\\end{matrix}\\right]$$"
      ],
      "text/plain": [
       "<IPython.core.display.Latex object>"
      ]
     },
     "metadata": {},
     "output_type": "display_data"
    },
    {
     "data": {
      "text/latex": [
       "$$D:$$"
      ],
      "text/plain": [
       "<IPython.core.display.Latex object>"
      ]
     },
     "metadata": {},
     "output_type": "display_data"
    },
    {
     "data": {
      "text/latex": [
       "$$\\left[\\begin{matrix}- \\frac{1}{3} & \\frac{1}{6} & \\frac{1}{6}\\\\\\frac{1}{3} & - \\frac{1}{6} & \\frac{5}{6}\\\\\\frac{1}{3} & \\frac{5}{6} & - \\frac{1}{6}\\end{matrix}\\right] ⋅ \\left[\\begin{matrix}-1 & 2 & 2\\\\2 & 2 & -1\\\\2 & -1 & 2\\end{matrix}\\right] ⋅ \\left[\\begin{matrix}-2 & \\frac{1}{2} & \\frac{1}{2}\\\\1 & 0 & 1\\\\1 & 1 & 0\\end{matrix}\\right] = \\left[\\begin{matrix}-3 & 0 & 0\\\\0 & 3 & 0\\\\0 & 0 & 3\\end{matrix}\\right]$$"
      ],
      "text/plain": [
       "<IPython.core.display.Latex object>"
      ]
     },
     "metadata": {},
     "output_type": "display_data"
    },
    {
     "data": {
      "text/latex": [
       "$$X^{-1}=\\left[\\begin{matrix}- \\frac{1}{3} & \\frac{1}{6} & \\frac{1}{6}\\\\\\frac{1}{3} & - \\frac{1}{6} & \\frac{5}{6}\\\\\\frac{1}{3} & \\frac{5}{6} & - \\frac{1}{6}\\end{matrix}\\right]$$"
      ],
      "text/plain": [
       "<IPython.core.display.Latex object>"
      ]
     },
     "metadata": {},
     "output_type": "display_data"
    },
    {
     "data": {
      "text/latex": [
       "$$A=\\left[\\begin{matrix}-1 & 2 & 2\\\\2 & 2 & -1\\\\2 & -1 & 2\\end{matrix}\\right]$$"
      ],
      "text/plain": [
       "<IPython.core.display.Latex object>"
      ]
     },
     "metadata": {},
     "output_type": "display_data"
    },
    {
     "data": {
      "text/latex": [
       "$$X=\\left[\\begin{matrix}-2 & \\frac{1}{2} & \\frac{1}{2}\\\\1 & 0 & 1\\\\1 & 1 & 0\\end{matrix}\\right]$$"
      ],
      "text/plain": [
       "<IPython.core.display.Latex object>"
      ]
     },
     "metadata": {},
     "output_type": "display_data"
    },
    {
     "data": {
      "text/latex": [
       "$$D=\\left[\\begin{matrix}-3 & 0 & 0\\\\0 & 3 & 0\\\\0 & 0 & 3\\end{matrix}\\right]$$"
      ],
      "text/plain": [
       "<IPython.core.display.Latex object>"
      ]
     },
     "metadata": {},
     "output_type": "display_data"
    }
   ],
   "source": [
    "A = np.array([[-1, 2, 2],\n",
    "              [2, 2, -1],\n",
    "              [2, -1, 2]])\n",
    "diagonalize(A)"
   ]
  },
  {
   "cell_type": "code",
   "execution_count": 65,
   "id": "3d767be1",
   "metadata": {},
   "outputs": [],
   "source": [
    "#your code here"
   ]
  },
  {
   "cell_type": "markdown",
   "id": "6381a04b",
   "metadata": {},
   "source": [
    "# 16. POSITIVE DEFINITENESS"
   ]
  },
  {
   "cell_type": "code",
   "execution_count": 66,
   "id": "e8f98796",
   "metadata": {},
   "outputs": [],
   "source": [
    "def is_pd_eig(A, output = False):\n",
    "    \"\"\"\n",
    "    determines whether a matrix is positive definite by checking\n",
    "    if all of its eigenvalues are greater than 0\n",
    "    Parameters\n",
    "    ----------\n",
    "    A: array_like\n",
    "        Matrix in question\n",
    "    output: bool\n",
    "        if True, returns a boolean\n",
    "    Returns\n",
    "    -------\n",
    "    is_pd: bool\n",
    "        True if A is positive definite False if A is not\n",
    "    \"\"\"\n",
    "    Y = A.shape\n",
    "    if Y[0] != Y[1]:\n",
    "        print('A non square matrix is not positive definite')\n",
    "        display(Latex('$$False$$'))\n",
    "        if output:\n",
    "            return False\n",
    "    A_clone = preprocess(A)\n",
    "    factors = eigenvalues(A_clone, output = True)\n",
    "    is_pd = True\n",
    "    for i in factors:\n",
    "        if i <= 0:\n",
    "            is_pd = False\n",
    "            display(Latex('$$' + str(i) + '<= 0$$'))\n",
    "            display(Latex('$$False$$'))\n",
    "    if is_pd:\n",
    "        print('All eigenvalues are positive')\n",
    "        display(Latex('$$True$$'))\n",
    "    if output:\n",
    "        return is_pd\n",
    "\n",
    "def is_pd_det(A, output = False):\n",
    "    \"\"\"\n",
    "    determines whether the matrix is positive definite using Sylvester's criterion\n",
    "    Parameters\n",
    "    ----------\n",
    "    A: array_like\n",
    "        Matrix in question\n",
    "    output: bool\n",
    "        if True, returns a boolean\n",
    "    Returns\n",
    "    -------\n",
    "    is_pd: bool\n",
    "        True if A is positive definite False if A is not\n",
    "    \"\"\"\n",
    "    Y = A.shape\n",
    "    if Y[0] != Y[1]:\n",
    "        print('A non square matrix is not positive definite')\n",
    "        display(Latex('$$False$$'))\n",
    "        if output:\n",
    "            return False\n",
    "    A_clone = preprocess(A)\n",
    "    is_pd = True\n",
    "    for i in range(Y[1]):\n",
    "        det = det_recursive(A_clone[:i + 1,:i + 1])\n",
    "        display(Latex('$$det(' + latex(sp.Matrix(A_clone[:i + 1,:i + 1])) + ')$$'))\n",
    "        if det <= 0:\n",
    "            is_pd = False\n",
    "            display(Latex('$$' + str(det) + '<= 0$$'))\n",
    "            display(Latex('$$False$$'))\n",
    "            break\n",
    "        else:\n",
    "            display(Latex('$$' + str(det) + '> 0$$'))\n",
    "    if is_pd:\n",
    "        print('All eigenvalues are positive')\n",
    "        display(Latex('$$True$$'))\n",
    "    if output:\n",
    "        return is_pd"
   ]
  },
  {
   "cell_type": "markdown",
   "id": "1131e1ca",
   "metadata": {},
   "source": [
    "#### example:"
   ]
  },
  {
   "cell_type": "code",
   "execution_count": 67,
   "id": "6430a2ad",
   "metadata": {},
   "outputs": [
    {
     "data": {
      "text/latex": [
       "$$det(\\left[\\begin{matrix}1\\end{matrix}\\right])$$"
      ],
      "text/plain": [
       "<IPython.core.display.Latex object>"
      ]
     },
     "metadata": {},
     "output_type": "display_data"
    },
    {
     "data": {
      "text/latex": [
       "$$1> 0$$"
      ],
      "text/plain": [
       "<IPython.core.display.Latex object>"
      ]
     },
     "metadata": {},
     "output_type": "display_data"
    },
    {
     "data": {
      "text/latex": [
       "$$det(\\left[\\begin{matrix}1 & 2\\\\2 & 2\\end{matrix}\\right])$$"
      ],
      "text/plain": [
       "<IPython.core.display.Latex object>"
      ]
     },
     "metadata": {},
     "output_type": "display_data"
    },
    {
     "data": {
      "text/latex": [
       "$$-2<= 0$$"
      ],
      "text/plain": [
       "<IPython.core.display.Latex object>"
      ]
     },
     "metadata": {},
     "output_type": "display_data"
    },
    {
     "data": {
      "text/latex": [
       "$$False$$"
      ],
      "text/plain": [
       "<IPython.core.display.Latex object>"
      ]
     },
     "metadata": {},
     "output_type": "display_data"
    }
   ],
   "source": [
    "A = np.array([[1, 2, 2],\n",
    "              [2, 2, -3],\n",
    "              [2, -1, 2]])\n",
    "is_pd_det(A)"
   ]
  },
  {
   "cell_type": "code",
   "execution_count": 68,
   "id": "9c3d952c",
   "metadata": {},
   "outputs": [
    {
     "data": {
      "text/latex": [
       "$$\\left[\\begin{matrix}- λ - 1 & 2 & 2\\\\2 & 2 - λ & -1\\\\2 & -1 & 2 - λ\\end{matrix}\\right]$$"
      ],
      "text/plain": [
       "<IPython.core.display.Latex object>"
      ]
     },
     "metadata": {},
     "output_type": "display_data"
    },
    {
     "name": "stdout",
     "output_type": "stream",
     "text": [
      "Solve for λ\n"
     ]
    },
    {
     "data": {
      "text/latex": [
       "$$λ = -3$$"
      ],
      "text/plain": [
       "<IPython.core.display.Latex object>"
      ]
     },
     "metadata": {},
     "output_type": "display_data"
    },
    {
     "data": {
      "text/latex": [
       "$$λ = 3$$"
      ],
      "text/plain": [
       "<IPython.core.display.Latex object>"
      ]
     },
     "metadata": {},
     "output_type": "display_data"
    },
    {
     "data": {
      "text/latex": [
       "$$-3<= 0$$"
      ],
      "text/plain": [
       "<IPython.core.display.Latex object>"
      ]
     },
     "metadata": {},
     "output_type": "display_data"
    },
    {
     "data": {
      "text/latex": [
       "$$False$$"
      ],
      "text/plain": [
       "<IPython.core.display.Latex object>"
      ]
     },
     "metadata": {},
     "output_type": "display_data"
    }
   ],
   "source": [
    "A = np.array([[-1, 2, 2],\n",
    "              [2, 2, -1],\n",
    "              [2, -1, 2]])\n",
    "is_pd_eig(A)"
   ]
  },
  {
   "cell_type": "code",
   "execution_count": 69,
   "id": "9ad13bf3",
   "metadata": {},
   "outputs": [],
   "source": [
    "#your code here"
   ]
  }
 ],
 "metadata": {
  "kernelspec": {
   "display_name": "Python 3 (ipykernel)",
   "language": "python",
   "name": "python3"
  },
  "language_info": {
   "codemirror_mode": {
    "name": "ipython",
    "version": 3
   },
   "file_extension": ".py",
   "mimetype": "text/x-python",
   "name": "python",
   "nbconvert_exporter": "python",
   "pygments_lexer": "ipython3",
   "version": "3.9.7"
  }
 },
 "nbformat": 4,
 "nbformat_minor": 5
}
